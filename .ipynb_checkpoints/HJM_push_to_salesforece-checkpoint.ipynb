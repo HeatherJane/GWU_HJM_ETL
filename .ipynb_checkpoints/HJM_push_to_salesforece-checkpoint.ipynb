{
 "cells": [
  {
   "cell_type": "markdown",
   "metadata": {},
   "source": [
    "## Import dependencies"
   ]
  },
  {
   "cell_type": "code",
   "execution_count": 63,
   "metadata": {},
   "outputs": [
    {
     "name": "stdout",
     "output_type": "stream",
     "text": [
      "Requirement already satisfied: simple_salesforce in /Users/heatherjanemoore/opt/anaconda3/lib/python3.7/site-packages (1.1.0)\n",
      "Requirement already satisfied: authlib in /Users/heatherjanemoore/opt/anaconda3/lib/python3.7/site-packages (from simple_salesforce) (0.14.3)\n",
      "Requirement already satisfied: requests>=2.22.0 in /Users/heatherjanemoore/opt/anaconda3/lib/python3.7/site-packages (from simple_salesforce) (2.22.0)\n",
      "Requirement already satisfied: cryptography in /Users/heatherjanemoore/opt/anaconda3/lib/python3.7/site-packages (from authlib->simple_salesforce) (2.7)\n",
      "Requirement already satisfied: urllib3!=1.25.0,!=1.25.1,<1.26,>=1.21.1 in /Users/heatherjanemoore/opt/anaconda3/lib/python3.7/site-packages (from requests>=2.22.0->simple_salesforce) (1.24.2)\n",
      "Requirement already satisfied: chardet<3.1.0,>=3.0.2 in /Users/heatherjanemoore/opt/anaconda3/lib/python3.7/site-packages (from requests>=2.22.0->simple_salesforce) (3.0.4)\n",
      "Requirement already satisfied: certifi>=2017.4.17 in /Users/heatherjanemoore/opt/anaconda3/lib/python3.7/site-packages (from requests>=2.22.0->simple_salesforce) (2019.9.11)\n",
      "Requirement already satisfied: idna<2.9,>=2.5 in /Users/heatherjanemoore/opt/anaconda3/lib/python3.7/site-packages (from requests>=2.22.0->simple_salesforce) (2.8)\n",
      "Requirement already satisfied: six>=1.4.1 in /Users/heatherjanemoore/opt/anaconda3/lib/python3.7/site-packages (from cryptography->authlib->simple_salesforce) (1.12.0)\n",
      "Requirement already satisfied: cffi!=1.11.3,>=1.8 in /Users/heatherjanemoore/opt/anaconda3/lib/python3.7/site-packages (from cryptography->authlib->simple_salesforce) (1.12.3)\n",
      "Requirement already satisfied: asn1crypto>=0.21.0 in /Users/heatherjanemoore/opt/anaconda3/lib/python3.7/site-packages (from cryptography->authlib->simple_salesforce) (1.0.1)\n",
      "Requirement already satisfied: pycparser in /Users/heatherjanemoore/opt/anaconda3/lib/python3.7/site-packages (from cffi!=1.11.3,>=1.8->cryptography->authlib->simple_salesforce) (2.19)\n"
     ]
    }
   ],
   "source": [
    "!pip install simple_salesforce"
   ]
  },
  {
   "cell_type": "code",
   "execution_count": 75,
   "metadata": {},
   "outputs": [],
   "source": [
    "import json\n",
    "from sqlalchemy import create_engine\n",
    "import pandas as pd\n",
    "import pymysql\n",
    "#import lambda\n",
    "pymysql.install_as_MySQLdb()\n",
    "from simple_salesforce import Salesforce"
   ]
  },
  {
   "cell_type": "markdown",
   "metadata": {},
   "source": [
    "## Import configuration variables"
   ]
  },
  {
   "cell_type": "code",
   "execution_count": 76,
   "metadata": {},
   "outputs": [],
   "source": [
    "# import sys\n",
    "# sys.path.append('../../../../')\n",
    "from config import sf_username, sf_password, sf_security_token\n",
    "from config import remote_db_endpoint, remote_db_port\n",
    "from config import remote_db_name, remote_db_user, remote_db_pwd"
   ]
  },
  {
   "cell_type": "markdown",
   "metadata": {},
   "source": [
    "## Set up `simple_salesforce`\n",
    "\n",
    "Pass in the username, password, and security token here. The security token contains information about your org."
   ]
  },
  {
   "cell_type": "code",
   "execution_count": 77,
   "metadata": {},
   "outputs": [],
   "source": [
    "from simple_salesforce import Salesforce\n",
    "sf = Salesforce(username=sf_username, password=sf_password, security_token=sf_security_token)"
   ]
  },
  {
   "cell_type": "markdown",
   "metadata": {},
   "source": [
    "## Connect to your MySQL database"
   ]
  },
  {
   "cell_type": "code",
   "execution_count": 78,
   "metadata": {},
   "outputs": [
    {
     "name": "stderr",
     "output_type": "stream",
     "text": [
      "Exception during reset or similar\n",
      "Traceback (most recent call last):\n",
      "  File \"/Users/heatherjanemoore/opt/anaconda3/lib/python3.7/site-packages/pymysql/connections.py\", line 691, in _read_bytes\n",
      "    data = self._rfile.read(num_bytes)\n",
      "  File \"/Users/heatherjanemoore/opt/anaconda3/lib/python3.7/socket.py\", line 589, in readinto\n",
      "    return self._sock.recv_into(b)\n",
      "TimeoutError: [Errno 60] Operation timed out\n",
      "\n",
      "During handling of the above exception, another exception occurred:\n",
      "\n",
      "Traceback (most recent call last):\n",
      "  File \"/Users/heatherjanemoore/opt/anaconda3/lib/python3.7/site-packages/sqlalchemy/pool/base.py\", line 680, in _finalize_fairy\n",
      "    fairy._reset(pool)\n",
      "  File \"/Users/heatherjanemoore/opt/anaconda3/lib/python3.7/site-packages/sqlalchemy/pool/base.py\", line 867, in _reset\n",
      "    pool._dialect.do_rollback(self)\n",
      "  File \"/Users/heatherjanemoore/opt/anaconda3/lib/python3.7/site-packages/sqlalchemy/dialects/mysql/base.py\", line 2253, in do_rollback\n",
      "    dbapi_connection.rollback()\n",
      "  File \"/Users/heatherjanemoore/opt/anaconda3/lib/python3.7/site-packages/pymysql/connections.py\", line 430, in rollback\n",
      "    self._read_ok_packet()\n",
      "  File \"/Users/heatherjanemoore/opt/anaconda3/lib/python3.7/site-packages/pymysql/connections.py\", line 394, in _read_ok_packet\n",
      "    pkt = self._read_packet()\n",
      "  File \"/Users/heatherjanemoore/opt/anaconda3/lib/python3.7/site-packages/pymysql/connections.py\", line 657, in _read_packet\n",
      "    packet_header = self._read_bytes(4)\n",
      "  File \"/Users/heatherjanemoore/opt/anaconda3/lib/python3.7/site-packages/pymysql/connections.py\", line 699, in _read_bytes\n",
      "    \"Lost connection to MySQL server during query (%s)\" % (e,))\n",
      "pymysql.err.OperationalError: (2013, 'Lost connection to MySQL server during query ([Errno 60] Operation timed out)')\n"
     ]
    }
   ],
   "source": [
    "engine = create_engine(f\"mysql://{remote_db_user}:{remote_db_pwd}@{remote_db_endpoint}:{remote_db_port}/{remote_db_name}\")\n",
    "conn = engine.connect()"
   ]
  },
  {
   "cell_type": "markdown",
   "metadata": {},
   "source": [
    "## Query Data"
   ]
  },
  {
   "cell_type": "code",
   "execution_count": 79,
   "metadata": {},
   "outputs": [
    {
     "data": {
      "text/html": [
       "<div>\n",
       "<style scoped>\n",
       "    .dataframe tbody tr th:only-of-type {\n",
       "        vertical-align: middle;\n",
       "    }\n",
       "\n",
       "    .dataframe tbody tr th {\n",
       "        vertical-align: top;\n",
       "    }\n",
       "\n",
       "    .dataframe thead th {\n",
       "        text-align: right;\n",
       "    }\n",
       "</style>\n",
       "<table border=\"1\" class=\"dataframe\">\n",
       "  <thead>\n",
       "    <tr style=\"text-align: right;\">\n",
       "      <th></th>\n",
       "      <th>ID_Course</th>\n",
       "      <th>CourseCode</th>\n",
       "      <th>CourseName</th>\n",
       "      <th>CreditHours</th>\n",
       "      <th>BootCampCourse</th>\n",
       "    </tr>\n",
       "  </thead>\n",
       "  <tbody>\n",
       "    <tr>\n",
       "      <td>0</td>\n",
       "      <td>1</td>\n",
       "      <td>BC-DATAVIZ</td>\n",
       "      <td>Data Visualization and Analytics</td>\n",
       "      <td>12</td>\n",
       "      <td>1</td>\n",
       "    </tr>\n",
       "    <tr>\n",
       "      <td>1</td>\n",
       "      <td>2</td>\n",
       "      <td>BC-WEBDEV</td>\n",
       "      <td>Full Stack Web Development</td>\n",
       "      <td>12</td>\n",
       "      <td>1</td>\n",
       "    </tr>\n",
       "    <tr>\n",
       "      <td>2</td>\n",
       "      <td>3</td>\n",
       "      <td>BC-UIUX</td>\n",
       "      <td>User Interface/User Experience</td>\n",
       "      <td>12</td>\n",
       "      <td>1</td>\n",
       "    </tr>\n",
       "    <tr>\n",
       "      <td>3</td>\n",
       "      <td>4</td>\n",
       "      <td>CIS-349</td>\n",
       "      <td>Introduction to Databases</td>\n",
       "      <td>5</td>\n",
       "      <td>0</td>\n",
       "    </tr>\n",
       "    <tr>\n",
       "      <td>4</td>\n",
       "      <td>5</td>\n",
       "      <td>CIS-405</td>\n",
       "      <td>Database Programming</td>\n",
       "      <td>5</td>\n",
       "      <td>0</td>\n",
       "    </tr>\n",
       "    <tr>\n",
       "      <td>5</td>\n",
       "      <td>6</td>\n",
       "      <td>CIS-438</td>\n",
       "      <td>Database Administration</td>\n",
       "      <td>5</td>\n",
       "      <td>0</td>\n",
       "    </tr>\n",
       "    <tr>\n",
       "      <td>6</td>\n",
       "      <td>7</td>\n",
       "      <td>CIS-430</td>\n",
       "      <td>Business Systems Programming I</td>\n",
       "      <td>5</td>\n",
       "      <td>0</td>\n",
       "    </tr>\n",
       "    <tr>\n",
       "      <td>7</td>\n",
       "      <td>8</td>\n",
       "      <td>CIS-435</td>\n",
       "      <td>Business Systems Programming II</td>\n",
       "      <td>5</td>\n",
       "      <td>0</td>\n",
       "    </tr>\n",
       "  </tbody>\n",
       "</table>\n",
       "</div>"
      ],
      "text/plain": [
       "   ID_Course  CourseCode                        CourseName  CreditHours  \\\n",
       "0          1  BC-DATAVIZ  Data Visualization and Analytics           12   \n",
       "1          2   BC-WEBDEV        Full Stack Web Development           12   \n",
       "2          3     BC-UIUX    User Interface/User Experience           12   \n",
       "3          4     CIS-349         Introduction to Databases            5   \n",
       "4          5     CIS-405              Database Programming            5   \n",
       "5          6     CIS-438           Database Administration            5   \n",
       "6          7     CIS-430    Business Systems Programming I            5   \n",
       "7          8     CIS-435   Business Systems Programming II            5   \n",
       "\n",
       "   BootCampCourse  \n",
       "0               1  \n",
       "1               1  \n",
       "2               1  \n",
       "3               0  \n",
       "4               0  \n",
       "5               0  \n",
       "6               0  \n",
       "7               0  "
      ]
     },
     "execution_count": 79,
     "metadata": {},
     "output_type": "execute_result"
    }
   ],
   "source": [
    "course_data = pd.read_sql(\"SELECT * FROM course\", conn)\n",
    "course_data.head(30)"
   ]
  },
  {
   "cell_type": "markdown",
   "metadata": {},
   "source": [
    "## Transform Data"
   ]
  },
  {
   "cell_type": "code",
   "execution_count": 8,
   "metadata": {},
   "outputs": [
    {
     "data": {
      "text/html": [
       "<div>\n",
       "<style scoped>\n",
       "    .dataframe tbody tr th:only-of-type {\n",
       "        vertical-align: middle;\n",
       "    }\n",
       "\n",
       "    .dataframe tbody tr th {\n",
       "        vertical-align: top;\n",
       "    }\n",
       "\n",
       "    .dataframe thead th {\n",
       "        text-align: right;\n",
       "    }\n",
       "</style>\n",
       "<table border=\"1\" class=\"dataframe\">\n",
       "  <thead>\n",
       "    <tr style=\"text-align: right;\">\n",
       "      <th></th>\n",
       "      <th>ID_Course</th>\n",
       "      <th>CourseCode</th>\n",
       "      <th>CourseName</th>\n",
       "      <th>CreditHours</th>\n",
       "      <th>BootCampCourse</th>\n",
       "    </tr>\n",
       "  </thead>\n",
       "  <tbody>\n",
       "    <tr>\n",
       "      <td>0</td>\n",
       "      <td>1</td>\n",
       "      <td>BC-DATAVIZ</td>\n",
       "      <td>Data Visualization and Analytics</td>\n",
       "      <td>12</td>\n",
       "      <td>1</td>\n",
       "    </tr>\n",
       "    <tr>\n",
       "      <td>1</td>\n",
       "      <td>2</td>\n",
       "      <td>BC-WEBDEV</td>\n",
       "      <td>Full Stack Web Development</td>\n",
       "      <td>12</td>\n",
       "      <td>1</td>\n",
       "    </tr>\n",
       "    <tr>\n",
       "      <td>2</td>\n",
       "      <td>3</td>\n",
       "      <td>BC-UIUX</td>\n",
       "      <td>User Interface/User Experience</td>\n",
       "      <td>12</td>\n",
       "      <td>1</td>\n",
       "    </tr>\n",
       "    <tr>\n",
       "      <td>3</td>\n",
       "      <td>4</td>\n",
       "      <td>CIS-349</td>\n",
       "      <td>Introduction to Databases</td>\n",
       "      <td>5</td>\n",
       "      <td>0</td>\n",
       "    </tr>\n",
       "    <tr>\n",
       "      <td>4</td>\n",
       "      <td>5</td>\n",
       "      <td>CIS-405</td>\n",
       "      <td>Database Programming</td>\n",
       "      <td>5</td>\n",
       "      <td>0</td>\n",
       "    </tr>\n",
       "  </tbody>\n",
       "</table>\n",
       "</div>"
      ],
      "text/plain": [
       "   ID_Course  CourseCode                        CourseName  CreditHours  \\\n",
       "0          1  BC-DATAVIZ  Data Visualization and Analytics           12   \n",
       "1          2   BC-WEBDEV        Full Stack Web Development           12   \n",
       "2          3     BC-UIUX    User Interface/User Experience           12   \n",
       "3          4     CIS-349         Introduction to Databases            5   \n",
       "4          5     CIS-405              Database Programming            5   \n",
       "\n",
       "   BootCampCourse  \n",
       "0               1  \n",
       "1               1  \n",
       "2               1  \n",
       "3               0  \n",
       "4               0  "
      ]
     },
     "execution_count": 8,
     "metadata": {},
     "output_type": "execute_result"
    }
   ],
   "source": [
    "course_data = course_data.rename(columns={'ID_Course__c':'ID_Course',\n",
    "                                          'CourseCode__c':'CourseCode',\n",
    "                                         'CreditHours__c':'CreditHours'})\n",
    "course_data.head()"
   ]
  },
  {
   "cell_type": "code",
   "execution_count": 29,
   "metadata": {},
   "outputs": [],
   "source": [
    "course_data.to_csv('course.csv')"
   ]
  },
  {
   "cell_type": "code",
   "execution_count": 14,
   "metadata": {},
   "outputs": [
    {
     "data": {
      "text/html": [
       "<div>\n",
       "<style scoped>\n",
       "    .dataframe tbody tr th:only-of-type {\n",
       "        vertical-align: middle;\n",
       "    }\n",
       "\n",
       "    .dataframe tbody tr th {\n",
       "        vertical-align: top;\n",
       "    }\n",
       "\n",
       "    .dataframe thead th {\n",
       "        text-align: right;\n",
       "    }\n",
       "</style>\n",
       "<table border=\"1\" class=\"dataframe\">\n",
       "  <thead>\n",
       "    <tr style=\"text-align: right;\">\n",
       "      <th></th>\n",
       "      <th>ID_Course</th>\n",
       "      <th>CourseCode</th>\n",
       "      <th>CreditHours</th>\n",
       "    </tr>\n",
       "  </thead>\n",
       "  <tbody>\n",
       "    <tr>\n",
       "      <td>0</td>\n",
       "      <td>1</td>\n",
       "      <td>BC-DATAVIZ</td>\n",
       "      <td>12</td>\n",
       "    </tr>\n",
       "    <tr>\n",
       "      <td>1</td>\n",
       "      <td>2</td>\n",
       "      <td>BC-WEBDEV</td>\n",
       "      <td>12</td>\n",
       "    </tr>\n",
       "    <tr>\n",
       "      <td>2</td>\n",
       "      <td>3</td>\n",
       "      <td>BC-UIUX</td>\n",
       "      <td>12</td>\n",
       "    </tr>\n",
       "    <tr>\n",
       "      <td>3</td>\n",
       "      <td>4</td>\n",
       "      <td>CIS-349</td>\n",
       "      <td>5</td>\n",
       "    </tr>\n",
       "    <tr>\n",
       "      <td>4</td>\n",
       "      <td>5</td>\n",
       "      <td>CIS-405</td>\n",
       "      <td>5</td>\n",
       "    </tr>\n",
       "    <tr>\n",
       "      <td>5</td>\n",
       "      <td>6</td>\n",
       "      <td>CIS-438</td>\n",
       "      <td>5</td>\n",
       "    </tr>\n",
       "    <tr>\n",
       "      <td>6</td>\n",
       "      <td>7</td>\n",
       "      <td>CIS-430</td>\n",
       "      <td>5</td>\n",
       "    </tr>\n",
       "    <tr>\n",
       "      <td>7</td>\n",
       "      <td>8</td>\n",
       "      <td>CIS-435</td>\n",
       "      <td>5</td>\n",
       "    </tr>\n",
       "  </tbody>\n",
       "</table>\n",
       "</div>"
      ],
      "text/plain": [
       "   ID_Course  CourseCode  CreditHours\n",
       "0          1  BC-DATAVIZ           12\n",
       "1          2   BC-WEBDEV           12\n",
       "2          3     BC-UIUX           12\n",
       "3          4     CIS-349            5\n",
       "4          5     CIS-405            5\n",
       "5          6     CIS-438            5\n",
       "6          7     CIS-430            5\n",
       "7          8     CIS-435            5"
      ]
     },
     "execution_count": 14,
     "metadata": {},
     "output_type": "execute_result"
    }
   ],
   "source": [
    "course_load_df = course_data[['ID_Course','CourseCode','CreditHours']]\n",
    "course_load_df.head(10)"
   ]
  },
  {
   "cell_type": "markdown",
   "metadata": {},
   "source": [
    "## Convert DataFrame to a list of dictionaries \n",
    "\n",
    "This can help facilitate a bulk insert"
   ]
  },
  {
   "cell_type": "code",
   "execution_count": 15,
   "metadata": {},
   "outputs": [
    {
     "data": {
      "text/plain": [
       "[{'ID_Course': 1, 'CourseCode': 'BC-DATAVIZ', 'CreditHours': 12},\n",
       " {'ID_Course': 2, 'CourseCode': 'BC-WEBDEV', 'CreditHours': 12},\n",
       " {'ID_Course': 3, 'CourseCode': 'BC-UIUX', 'CreditHours': 12},\n",
       " {'ID_Course': 4, 'CourseCode': 'CIS-349', 'CreditHours': 5},\n",
       " {'ID_Course': 5, 'CourseCode': 'CIS-405', 'CreditHours': 5},\n",
       " {'ID_Course': 6, 'CourseCode': 'CIS-438', 'CreditHours': 5},\n",
       " {'ID_Course': 7, 'CourseCode': 'CIS-430', 'CreditHours': 5},\n",
       " {'ID_Course': 8, 'CourseCode': 'CIS-435', 'CreditHours': 5}]"
      ]
     },
     "execution_count": 15,
     "metadata": {},
     "output_type": "execute_result"
    }
   ],
   "source": [
    "course_load = course_load_df.to_dict('records')\n",
    "course_load"
   ]
  },
  {
   "cell_type": "code",
   "execution_count": null,
   "metadata": {},
   "outputs": [],
   "source": [
    "#course_data.to_csv('course.csv')"
   ]
  },
  {
   "cell_type": "markdown",
   "metadata": {},
   "source": [
    "## Example of inserting rows individually - Course Data\n",
    "\n",
    "Loop through the DataFrame and assemble indiviudal dictionaries"
   ]
  },
  {
   "cell_type": "code",
   "execution_count": 80,
   "metadata": {},
   "outputs": [],
   "source": [
    "for index, row in course_data.iterrows():\n",
    "    record = {\n",
    "        'ID_Course__c': row['ID_Course'],\n",
    "        'CourseCode__c': row['CourseCode'],\n",
    "        'CreditHours__c':row['CreditHours'],\n",
    "        'BootCampCourse__c':row['BootCampCourse']\n",
    "    }\n",
    "    try:\n",
    "        sf.Course__c.create(record)\n",
    "    except Exception as e:\n",
    "        print(e)"
   ]
  },
  {
   "cell_type": "markdown",
   "metadata": {},
   "source": [
    "## Example of inserting rows in bulk"
   ]
  },
  {
   "cell_type": "code",
   "execution_count": null,
   "metadata": {},
   "outputs": [],
   "source": [
    "#try:\n",
    "#    sf.bulk.Lead.insert(course_load)\n",
    "#except Exception as e:\n",
    "#    print(e)"
   ]
  },
  {
   "cell_type": "markdown",
   "metadata": {},
   "source": [
    "## Now the staff data "
   ]
  },
  {
   "cell_type": "code",
   "execution_count": 35,
   "metadata": {},
   "outputs": [
    {
     "data": {
      "text/html": [
       "<div>\n",
       "<style scoped>\n",
       "    .dataframe tbody tr th:only-of-type {\n",
       "        vertical-align: middle;\n",
       "    }\n",
       "\n",
       "    .dataframe tbody tr th {\n",
       "        vertical-align: top;\n",
       "    }\n",
       "\n",
       "    .dataframe thead th {\n",
       "        text-align: right;\n",
       "    }\n",
       "</style>\n",
       "<table border=\"1\" class=\"dataframe\">\n",
       "  <thead>\n",
       "    <tr style=\"text-align: right;\">\n",
       "      <th></th>\n",
       "      <th>ID_Staff</th>\n",
       "      <th>EmployeeID</th>\n",
       "      <th>LastName</th>\n",
       "      <th>FirstName</th>\n",
       "      <th>MiddleName</th>\n",
       "      <th>BirthDate</th>\n",
       "    </tr>\n",
       "  </thead>\n",
       "  <tbody>\n",
       "    <tr>\n",
       "      <td>0</td>\n",
       "      <td>1</td>\n",
       "      <td>000184220</td>\n",
       "      <td>Wimberly</td>\n",
       "      <td>Sam</td>\n",
       "      <td>Nico</td>\n",
       "      <td>1995-07-05</td>\n",
       "    </tr>\n",
       "    <tr>\n",
       "      <td>1</td>\n",
       "      <td>2</td>\n",
       "      <td>000130109</td>\n",
       "      <td>Sanford</td>\n",
       "      <td>Gemini</td>\n",
       "      <td>Blair</td>\n",
       "      <td>1992-04-22</td>\n",
       "    </tr>\n",
       "    <tr>\n",
       "      <td>2</td>\n",
       "      <td>3</td>\n",
       "      <td>000160655</td>\n",
       "      <td>Williams</td>\n",
       "      <td>Dartanion</td>\n",
       "      <td>De Angelo</td>\n",
       "      <td>1993-05-21</td>\n",
       "    </tr>\n",
       "    <tr>\n",
       "      <td>3</td>\n",
       "      <td>4</td>\n",
       "      <td>000159108</td>\n",
       "      <td>Popelka</td>\n",
       "      <td>Sarah</td>\n",
       "      <td>Nisan</td>\n",
       "      <td>1994-06-07</td>\n",
       "    </tr>\n",
       "  </tbody>\n",
       "</table>\n",
       "</div>"
      ],
      "text/plain": [
       "   ID_Staff EmployeeID  LastName  FirstName MiddleName   BirthDate\n",
       "0         1  000184220  Wimberly        Sam       Nico  1995-07-05\n",
       "1         2  000130109   Sanford     Gemini      Blair  1992-04-22\n",
       "2         3  000160655  Williams  Dartanion  De Angelo  1993-05-21\n",
       "3         4  000159108   Popelka      Sarah      Nisan  1994-06-07"
      ]
     },
     "execution_count": 35,
     "metadata": {},
     "output_type": "execute_result"
    }
   ],
   "source": [
    "staff_data = pd.read_sql(\"SELECT * FROM staff\", conn)\n",
    "staff_data.head(30)"
   ]
  },
  {
   "cell_type": "code",
   "execution_count": 36,
   "metadata": {},
   "outputs": [],
   "source": [
    "staff_data.to_csv('course.csv')"
   ]
  },
  {
   "cell_type": "markdown",
   "metadata": {},
   "source": [
    "## Convert the dates to push data"
   ]
  },
  {
   "cell_type": "code",
   "execution_count": null,
   "metadata": {},
   "outputs": [],
   "source": [
    "staff_data['Birth_Date'] = staff_data['BirthDate'].apply(lambda x: x.strftime('%Y-%m-%d')) \n",
    "staff_data=staff_data[['ID_Staff','EmployeeID','LastName','FirstName','MiddleName','BirthDate']]\n",
    "staff_data"
   ]
  },
  {
   "cell_type": "code",
   "execution_count": null,
   "metadata": {},
   "outputs": [],
   "source": [
    "#for index, row in staff_data.iterrows():\n",
    "    record = {\n",
    "        'ID_Staff__c': row['ID_Staff'],\n",
    "        'EmployeeID__c': row['EmployeeID'],\n",
    "        'LastName__c':row['LastName'],\n",
    "        'FirstName__c':row['FirstName'],\n",
    "        'MiddleName__c':row['MiddleName'],\n",
    "    }\n",
    "    try:\n",
    "        sf.Staff__c.create(record)\n",
    "    except Exception as e:\n",
    "        print(e)"
   ]
  },
  {
   "cell_type": "markdown",
   "metadata": {},
   "source": [
    "## Now the class data "
   ]
  },
  {
   "cell_type": "code",
   "execution_count": 41,
   "metadata": {},
   "outputs": [
    {
     "data": {
      "text/html": [
       "<div>\n",
       "<style scoped>\n",
       "    .dataframe tbody tr th:only-of-type {\n",
       "        vertical-align: middle;\n",
       "    }\n",
       "\n",
       "    .dataframe tbody tr th {\n",
       "        vertical-align: top;\n",
       "    }\n",
       "\n",
       "    .dataframe thead th {\n",
       "        text-align: right;\n",
       "    }\n",
       "</style>\n",
       "<table border=\"1\" class=\"dataframe\">\n",
       "  <thead>\n",
       "    <tr style=\"text-align: right;\">\n",
       "      <th></th>\n",
       "      <th>ID_Class</th>\n",
       "      <th>ID_Course</th>\n",
       "      <th>Section</th>\n",
       "      <th>StartDate</th>\n",
       "      <th>EndDate</th>\n",
       "    </tr>\n",
       "  </thead>\n",
       "  <tbody>\n",
       "    <tr>\n",
       "      <td>0</td>\n",
       "      <td>1</td>\n",
       "      <td>1</td>\n",
       "      <td>GWU-ARL-DATA-PT-09-0</td>\n",
       "      <td>2020-03-16</td>\n",
       "      <td>2020-03-14</td>\n",
       "    </tr>\n",
       "    <tr>\n",
       "      <td>1</td>\n",
       "      <td>2</td>\n",
       "      <td>1</td>\n",
       "      <td>GWDC201805DATA3</td>\n",
       "      <td>2018-05-15</td>\n",
       "      <td>2018-11-08</td>\n",
       "    </tr>\n",
       "    <tr>\n",
       "      <td>2</td>\n",
       "      <td>3</td>\n",
       "      <td>2</td>\n",
       "      <td>GWARL201905WEB3</td>\n",
       "      <td>2019-05-14</td>\n",
       "      <td>2019-11-07</td>\n",
       "    </tr>\n",
       "    <tr>\n",
       "      <td>3</td>\n",
       "      <td>4</td>\n",
       "      <td>3</td>\n",
       "      <td>GWARL201905UIUX3</td>\n",
       "      <td>2019-05-14</td>\n",
       "      <td>2019-11-07</td>\n",
       "    </tr>\n",
       "  </tbody>\n",
       "</table>\n",
       "</div>"
      ],
      "text/plain": [
       "   ID_Class  ID_Course               Section   StartDate     EndDate\n",
       "0         1          1  GWU-ARL-DATA-PT-09-0  2020-03-16  2020-03-14\n",
       "1         2          1       GWDC201805DATA3  2018-05-15  2018-11-08\n",
       "2         3          2       GWARL201905WEB3  2019-05-14  2019-11-07\n",
       "3         4          3      GWARL201905UIUX3  2019-05-14  2019-11-07"
      ]
     },
     "execution_count": 41,
     "metadata": {},
     "output_type": "execute_result"
    }
   ],
   "source": [
    "class_data = pd.read_sql(\"SELECT * FROM class\", conn)\n",
    "class_data.head(30)"
   ]
  },
  {
   "cell_type": "code",
   "execution_count": 19,
   "metadata": {},
   "outputs": [
    {
     "data": {
      "text/html": [
       "<div>\n",
       "<style scoped>\n",
       "    .dataframe tbody tr th:only-of-type {\n",
       "        vertical-align: middle;\n",
       "    }\n",
       "\n",
       "    .dataframe tbody tr th {\n",
       "        vertical-align: top;\n",
       "    }\n",
       "\n",
       "    .dataframe thead th {\n",
       "        text-align: right;\n",
       "    }\n",
       "</style>\n",
       "<table border=\"1\" class=\"dataframe\">\n",
       "  <thead>\n",
       "    <tr style=\"text-align: right;\">\n",
       "      <th></th>\n",
       "      <th>ID_Class</th>\n",
       "      <th>ID_Course</th>\n",
       "      <th>Section</th>\n",
       "      <th>StartDate</th>\n",
       "      <th>EndDate</th>\n",
       "    </tr>\n",
       "  </thead>\n",
       "  <tbody>\n",
       "    <tr>\n",
       "      <td>0</td>\n",
       "      <td>1</td>\n",
       "      <td>1</td>\n",
       "      <td>GWU-ARL-DATA-PT-09-0</td>\n",
       "      <td>2020-03-16</td>\n",
       "      <td>2020-03-14</td>\n",
       "    </tr>\n",
       "    <tr>\n",
       "      <td>1</td>\n",
       "      <td>2</td>\n",
       "      <td>1</td>\n",
       "      <td>GWDC201805DATA3</td>\n",
       "      <td>2018-05-15</td>\n",
       "      <td>2018-11-08</td>\n",
       "    </tr>\n",
       "    <tr>\n",
       "      <td>2</td>\n",
       "      <td>3</td>\n",
       "      <td>2</td>\n",
       "      <td>GWARL201905WEB3</td>\n",
       "      <td>2019-05-14</td>\n",
       "      <td>2019-11-07</td>\n",
       "    </tr>\n",
       "    <tr>\n",
       "      <td>3</td>\n",
       "      <td>4</td>\n",
       "      <td>3</td>\n",
       "      <td>GWARL201905UIUX3</td>\n",
       "      <td>2019-05-14</td>\n",
       "      <td>2019-11-07</td>\n",
       "    </tr>\n",
       "  </tbody>\n",
       "</table>\n",
       "</div>"
      ],
      "text/plain": [
       "   ID_Class  ID_Course               Section   StartDate     EndDate\n",
       "0         1          1  GWU-ARL-DATA-PT-09-0  2020-03-16  2020-03-14\n",
       "1         2          1       GWDC201805DATA3  2018-05-15  2018-11-08\n",
       "2         3          2       GWARL201905WEB3  2019-05-14  2019-11-07\n",
       "3         4          3      GWARL201905UIUX3  2019-05-14  2019-11-07"
      ]
     },
     "execution_count": 19,
     "metadata": {},
     "output_type": "execute_result"
    }
   ],
   "source": [
    "class_data['StartDate'] = class_data['StartDate'].apply(lambda x: x.strftime('%Y-%m-%d')) \n",
    "class_data['EndDate'] = class_data['EndDate'].apply(lambda x: x.strftime('%Y-%m-%d')) \n",
    "class_data=class_data[['ID_Class','ID_Course','Section','StartDate','EndDate']]\n",
    "class_data"
   ]
  },
  {
   "cell_type": "code",
   "execution_count": 42,
   "metadata": {},
   "outputs": [],
   "source": [
    "class_data.to_csv('class.csv')"
   ]
  },
  {
   "cell_type": "markdown",
   "metadata": {},
   "source": [
    "## Query for ID code in salesforce to upload "
   ]
  },
  {
   "cell_type": "code",
   "execution_count": 23,
   "metadata": {},
   "outputs": [
    {
     "ename": "SalesforceMalformedRequest",
     "evalue": "Malformed request https://na111.salesforce.com/services/data/v42.0/query/?q=SELECT+id%2C+name%2C+CourseName__c%2C+ID_Course__c+FROM+Course__c. Response content: [{'message': \"\\nSELECT id, name, CourseName__c, ID_Course__c FROM Course__c\\n                                ^\\nERROR at Row:1:Column:33\\nNo such column 'ID_Course__c' on entity 'Course__c'. If you are attempting to use a custom field, be sure to append the '__c' after the custom field name. Please reference your WSDL or the describe call for the appropriate names.\", 'errorCode': 'INVALID_FIELD'}]",
     "output_type": "error",
     "traceback": [
      "\u001b[0;31m---------------------------------------------------------------------------\u001b[0m",
      "\u001b[0;31mSalesforceMalformedRequest\u001b[0m                Traceback (most recent call last)",
      "\u001b[0;32m<ipython-input-23-4b63fd52c35c>\u001b[0m in \u001b[0;36m<module>\u001b[0;34m\u001b[0m\n\u001b[0;32m----> 1\u001b[0;31m \u001b[0msf_staff_records\u001b[0m \u001b[0;34m=\u001b[0m \u001b[0msf\u001b[0m\u001b[0;34m.\u001b[0m\u001b[0mquery\u001b[0m\u001b[0;34m(\u001b[0m\u001b[0;34m\"SELECT id, name, CourseName__c, ID_Course__c FROM Course__c\"\u001b[0m\u001b[0;34m)\u001b[0m\u001b[0;34m\u001b[0m\u001b[0;34m\u001b[0m\u001b[0m\n\u001b[0m\u001b[1;32m      2\u001b[0m \u001b[0mclassdict\u001b[0m \u001b[0;34m=\u001b[0m \u001b[0;34m{\u001b[0m\u001b[0;34m}\u001b[0m\u001b[0;34m\u001b[0m\u001b[0;34m\u001b[0m\u001b[0m\n\u001b[1;32m      3\u001b[0m \u001b[0;32mfor\u001b[0m \u001b[0mx\u001b[0m \u001b[0;32min\u001b[0m \u001b[0msf_staff_records\u001b[0m\u001b[0;34m[\u001b[0m\u001b[0;34m'records'\u001b[0m\u001b[0;34m]\u001b[0m\u001b[0;34m:\u001b[0m\u001b[0;34m\u001b[0m\u001b[0;34m\u001b[0m\u001b[0m\n\u001b[1;32m      4\u001b[0m     \u001b[0mclassdict\u001b[0m\u001b[0;34m[\u001b[0m\u001b[0mx\u001b[0m\u001b[0;34m[\u001b[0m\u001b[0;34m'ID_Course__c'\u001b[0m\u001b[0;34m]\u001b[0m\u001b[0;34m]\u001b[0m \u001b[0;34m=\u001b[0m \u001b[0;34m{\u001b[0m\u001b[0;34m'name'\u001b[0m\u001b[0;34m:\u001b[0m \u001b[0mx\u001b[0m\u001b[0;34m[\u001b[0m\u001b[0;34m'CourseName__c'\u001b[0m\u001b[0;34m]\u001b[0m\u001b[0;34m,\u001b[0m \u001b[0;34m'id'\u001b[0m\u001b[0;34m:\u001b[0m\u001b[0mx\u001b[0m\u001b[0;34m[\u001b[0m\u001b[0;34m'Id'\u001b[0m\u001b[0;34m]\u001b[0m\u001b[0;34m}\u001b[0m\u001b[0;34m\u001b[0m\u001b[0;34m\u001b[0m\u001b[0m\n",
      "\u001b[0;32m~/opt/anaconda3/lib/python3.7/site-packages/simple_salesforce/api.py\u001b[0m in \u001b[0;36mquery\u001b[0;34m(self, query, include_deleted, **kwargs)\u001b[0m\n\u001b[1;32m    355\u001b[0m         \u001b[0;31m# `requests` will correctly encode the query string passed as `params`\u001b[0m\u001b[0;34m\u001b[0m\u001b[0;34m\u001b[0m\u001b[0;34m\u001b[0m\u001b[0m\n\u001b[1;32m    356\u001b[0m         result = self._call_salesforce('GET', url, name='query',\n\u001b[0;32m--> 357\u001b[0;31m                                        params=params, **kwargs)\n\u001b[0m\u001b[1;32m    358\u001b[0m \u001b[0;34m\u001b[0m\u001b[0m\n\u001b[1;32m    359\u001b[0m         \u001b[0;32mreturn\u001b[0m \u001b[0mresult\u001b[0m\u001b[0;34m.\u001b[0m\u001b[0mjson\u001b[0m\u001b[0;34m(\u001b[0m\u001b[0mobject_pairs_hook\u001b[0m\u001b[0;34m=\u001b[0m\u001b[0mOrderedDict\u001b[0m\u001b[0;34m)\u001b[0m\u001b[0;34m\u001b[0m\u001b[0;34m\u001b[0m\u001b[0m\n",
      "\u001b[0;32m~/opt/anaconda3/lib/python3.7/site-packages/simple_salesforce/api.py\u001b[0m in \u001b[0;36m_call_salesforce\u001b[0;34m(self, method, url, name, **kwargs)\u001b[0m\n\u001b[1;32m    488\u001b[0m \u001b[0;34m\u001b[0m\u001b[0m\n\u001b[1;32m    489\u001b[0m         \u001b[0;32mif\u001b[0m \u001b[0mresult\u001b[0m\u001b[0;34m.\u001b[0m\u001b[0mstatus_code\u001b[0m \u001b[0;34m>=\u001b[0m \u001b[0;36m300\u001b[0m\u001b[0;34m:\u001b[0m\u001b[0;34m\u001b[0m\u001b[0;34m\u001b[0m\u001b[0m\n\u001b[0;32m--> 490\u001b[0;31m             \u001b[0mexception_handler\u001b[0m\u001b[0;34m(\u001b[0m\u001b[0mresult\u001b[0m\u001b[0;34m,\u001b[0m \u001b[0mname\u001b[0m\u001b[0;34m=\u001b[0m\u001b[0mname\u001b[0m\u001b[0;34m)\u001b[0m\u001b[0;34m\u001b[0m\u001b[0;34m\u001b[0m\u001b[0m\n\u001b[0m\u001b[1;32m    491\u001b[0m \u001b[0;34m\u001b[0m\u001b[0m\n\u001b[1;32m    492\u001b[0m         \u001b[0msforce_limit_info\u001b[0m \u001b[0;34m=\u001b[0m \u001b[0mresult\u001b[0m\u001b[0;34m.\u001b[0m\u001b[0mheaders\u001b[0m\u001b[0;34m.\u001b[0m\u001b[0mget\u001b[0m\u001b[0;34m(\u001b[0m\u001b[0;34m'Sforce-Limit-Info'\u001b[0m\u001b[0;34m)\u001b[0m\u001b[0;34m\u001b[0m\u001b[0;34m\u001b[0m\u001b[0m\n",
      "\u001b[0;32m~/opt/anaconda3/lib/python3.7/site-packages/simple_salesforce/util.py\u001b[0m in \u001b[0;36mexception_handler\u001b[0;34m(result, name)\u001b[0m\n\u001b[1;32m     66\u001b[0m     \u001b[0mexc_cls\u001b[0m \u001b[0;34m=\u001b[0m \u001b[0mexc_map\u001b[0m\u001b[0;34m.\u001b[0m\u001b[0mget\u001b[0m\u001b[0;34m(\u001b[0m\u001b[0mresult\u001b[0m\u001b[0;34m.\u001b[0m\u001b[0mstatus_code\u001b[0m\u001b[0;34m,\u001b[0m \u001b[0mSalesforceGeneralError\u001b[0m\u001b[0;34m)\u001b[0m\u001b[0;34m\u001b[0m\u001b[0;34m\u001b[0m\u001b[0m\n\u001b[1;32m     67\u001b[0m \u001b[0;34m\u001b[0m\u001b[0m\n\u001b[0;32m---> 68\u001b[0;31m     \u001b[0;32mraise\u001b[0m \u001b[0mexc_cls\u001b[0m\u001b[0;34m(\u001b[0m\u001b[0mresult\u001b[0m\u001b[0;34m.\u001b[0m\u001b[0murl\u001b[0m\u001b[0;34m,\u001b[0m \u001b[0mresult\u001b[0m\u001b[0;34m.\u001b[0m\u001b[0mstatus_code\u001b[0m\u001b[0;34m,\u001b[0m \u001b[0mname\u001b[0m\u001b[0;34m,\u001b[0m \u001b[0mresponse_content\u001b[0m\u001b[0;34m)\u001b[0m\u001b[0;34m\u001b[0m\u001b[0;34m\u001b[0m\u001b[0m\n\u001b[0m\u001b[1;32m     69\u001b[0m \u001b[0;34m\u001b[0m\u001b[0m\n\u001b[1;32m     70\u001b[0m \u001b[0;34m\u001b[0m\u001b[0m\n",
      "\u001b[0;31mSalesforceMalformedRequest\u001b[0m: Malformed request https://na111.salesforce.com/services/data/v42.0/query/?q=SELECT+id%2C+name%2C+CourseName__c%2C+ID_Course__c+FROM+Course__c. Response content: [{'message': \"\\nSELECT id, name, CourseName__c, ID_Course__c FROM Course__c\\n                                ^\\nERROR at Row:1:Column:33\\nNo such column 'ID_Course__c' on entity 'Course__c'. If you are attempting to use a custom field, be sure to append the '__c' after the custom field name. Please reference your WSDL or the describe call for the appropriate names.\", 'errorCode': 'INVALID_FIELD'}]"
     ]
    }
   ],
   "source": [
    "sf_staff_records = sf.query(\"SELECT id, name, CourseName__c, ID_Course__c FROM Course__c\")\n",
    "classdict = {}\n",
    "for x in sf_staff_records['records']:\n",
    "    classdict[x['ID_Course__c']] = {'name': x['CourseName__c'], 'id':x['Id']}"
   ]
  },
  {
   "cell_type": "code",
   "execution_count": 24,
   "metadata": {},
   "outputs": [
    {
     "ename": "AttributeError",
     "evalue": "'str' object has no attribute 'strftime'",
     "output_type": "error",
     "traceback": [
      "\u001b[0;31m---------------------------------------------------------------------------\u001b[0m",
      "\u001b[0;31mAttributeError\u001b[0m                            Traceback (most recent call last)",
      "\u001b[0;32m<ipython-input-24-eb0c088a9be7>\u001b[0m in \u001b[0;36m<module>\u001b[0;34m\u001b[0m\n\u001b[0;32m----> 1\u001b[0;31m \u001b[0mclass_data\u001b[0m\u001b[0;34m[\u001b[0m\u001b[0;34m'StartDate'\u001b[0m\u001b[0;34m]\u001b[0m \u001b[0;34m=\u001b[0m \u001b[0mclass_data\u001b[0m\u001b[0;34m[\u001b[0m\u001b[0;34m'StartDate'\u001b[0m\u001b[0;34m]\u001b[0m\u001b[0;34m.\u001b[0m\u001b[0mapply\u001b[0m\u001b[0;34m(\u001b[0m\u001b[0;32mlambda\u001b[0m \u001b[0mx\u001b[0m\u001b[0;34m:\u001b[0m \u001b[0mx\u001b[0m\u001b[0;34m.\u001b[0m\u001b[0mstrftime\u001b[0m\u001b[0;34m(\u001b[0m\u001b[0;34m'%Y-%m-%d'\u001b[0m\u001b[0;34m)\u001b[0m\u001b[0;34m)\u001b[0m\u001b[0;34m\u001b[0m\u001b[0;34m\u001b[0m\u001b[0m\n\u001b[0m\u001b[1;32m      2\u001b[0m \u001b[0mclass_data\u001b[0m\u001b[0;34m[\u001b[0m\u001b[0;34m'EndDate'\u001b[0m\u001b[0;34m]\u001b[0m \u001b[0;34m=\u001b[0m \u001b[0mclass_data\u001b[0m\u001b[0;34m[\u001b[0m\u001b[0;34m'EndDate'\u001b[0m\u001b[0;34m]\u001b[0m\u001b[0;34m.\u001b[0m\u001b[0mapply\u001b[0m\u001b[0;34m(\u001b[0m\u001b[0;32mlambda\u001b[0m \u001b[0mx\u001b[0m\u001b[0;34m:\u001b[0m \u001b[0mx\u001b[0m\u001b[0;34m.\u001b[0m\u001b[0mstrftime\u001b[0m\u001b[0;34m(\u001b[0m\u001b[0;34m'%Y-%m-%d'\u001b[0m\u001b[0;34m)\u001b[0m\u001b[0;34m)\u001b[0m\u001b[0;34m\u001b[0m\u001b[0;34m\u001b[0m\u001b[0m\n\u001b[1;32m      3\u001b[0m \u001b[0mprint\u001b[0m\u001b[0;34m(\u001b[0m\u001b[0mclass_data\u001b[0m\u001b[0;34m)\u001b[0m\u001b[0;34m\u001b[0m\u001b[0;34m\u001b[0m\u001b[0m\n",
      "\u001b[0;32m~/opt/anaconda3/lib/python3.7/site-packages/pandas/core/series.py\u001b[0m in \u001b[0;36mapply\u001b[0;34m(self, func, convert_dtype, args, **kwds)\u001b[0m\n\u001b[1;32m   4040\u001b[0m             \u001b[0;32melse\u001b[0m\u001b[0;34m:\u001b[0m\u001b[0;34m\u001b[0m\u001b[0;34m\u001b[0m\u001b[0m\n\u001b[1;32m   4041\u001b[0m                 \u001b[0mvalues\u001b[0m \u001b[0;34m=\u001b[0m \u001b[0mself\u001b[0m\u001b[0;34m.\u001b[0m\u001b[0mastype\u001b[0m\u001b[0;34m(\u001b[0m\u001b[0mobject\u001b[0m\u001b[0;34m)\u001b[0m\u001b[0;34m.\u001b[0m\u001b[0mvalues\u001b[0m\u001b[0;34m\u001b[0m\u001b[0;34m\u001b[0m\u001b[0m\n\u001b[0;32m-> 4042\u001b[0;31m                 \u001b[0mmapped\u001b[0m \u001b[0;34m=\u001b[0m \u001b[0mlib\u001b[0m\u001b[0;34m.\u001b[0m\u001b[0mmap_infer\u001b[0m\u001b[0;34m(\u001b[0m\u001b[0mvalues\u001b[0m\u001b[0;34m,\u001b[0m \u001b[0mf\u001b[0m\u001b[0;34m,\u001b[0m \u001b[0mconvert\u001b[0m\u001b[0;34m=\u001b[0m\u001b[0mconvert_dtype\u001b[0m\u001b[0;34m)\u001b[0m\u001b[0;34m\u001b[0m\u001b[0;34m\u001b[0m\u001b[0m\n\u001b[0m\u001b[1;32m   4043\u001b[0m \u001b[0;34m\u001b[0m\u001b[0m\n\u001b[1;32m   4044\u001b[0m         \u001b[0;32mif\u001b[0m \u001b[0mlen\u001b[0m\u001b[0;34m(\u001b[0m\u001b[0mmapped\u001b[0m\u001b[0;34m)\u001b[0m \u001b[0;32mand\u001b[0m \u001b[0misinstance\u001b[0m\u001b[0;34m(\u001b[0m\u001b[0mmapped\u001b[0m\u001b[0;34m[\u001b[0m\u001b[0;36m0\u001b[0m\u001b[0;34m]\u001b[0m\u001b[0;34m,\u001b[0m \u001b[0mSeries\u001b[0m\u001b[0;34m)\u001b[0m\u001b[0;34m:\u001b[0m\u001b[0;34m\u001b[0m\u001b[0;34m\u001b[0m\u001b[0m\n",
      "\u001b[0;32mpandas/_libs/lib.pyx\u001b[0m in \u001b[0;36mpandas._libs.lib.map_infer\u001b[0;34m()\u001b[0m\n",
      "\u001b[0;32m<ipython-input-24-eb0c088a9be7>\u001b[0m in \u001b[0;36m<lambda>\u001b[0;34m(x)\u001b[0m\n\u001b[0;32m----> 1\u001b[0;31m \u001b[0mclass_data\u001b[0m\u001b[0;34m[\u001b[0m\u001b[0;34m'StartDate'\u001b[0m\u001b[0;34m]\u001b[0m \u001b[0;34m=\u001b[0m \u001b[0mclass_data\u001b[0m\u001b[0;34m[\u001b[0m\u001b[0;34m'StartDate'\u001b[0m\u001b[0;34m]\u001b[0m\u001b[0;34m.\u001b[0m\u001b[0mapply\u001b[0m\u001b[0;34m(\u001b[0m\u001b[0;32mlambda\u001b[0m \u001b[0mx\u001b[0m\u001b[0;34m:\u001b[0m \u001b[0mx\u001b[0m\u001b[0;34m.\u001b[0m\u001b[0mstrftime\u001b[0m\u001b[0;34m(\u001b[0m\u001b[0;34m'%Y-%m-%d'\u001b[0m\u001b[0;34m)\u001b[0m\u001b[0;34m)\u001b[0m\u001b[0;34m\u001b[0m\u001b[0;34m\u001b[0m\u001b[0m\n\u001b[0m\u001b[1;32m      2\u001b[0m \u001b[0mclass_data\u001b[0m\u001b[0;34m[\u001b[0m\u001b[0;34m'EndDate'\u001b[0m\u001b[0;34m]\u001b[0m \u001b[0;34m=\u001b[0m \u001b[0mclass_data\u001b[0m\u001b[0;34m[\u001b[0m\u001b[0;34m'EndDate'\u001b[0m\u001b[0;34m]\u001b[0m\u001b[0;34m.\u001b[0m\u001b[0mapply\u001b[0m\u001b[0;34m(\u001b[0m\u001b[0;32mlambda\u001b[0m \u001b[0mx\u001b[0m\u001b[0;34m:\u001b[0m \u001b[0mx\u001b[0m\u001b[0;34m.\u001b[0m\u001b[0mstrftime\u001b[0m\u001b[0;34m(\u001b[0m\u001b[0;34m'%Y-%m-%d'\u001b[0m\u001b[0;34m)\u001b[0m\u001b[0;34m)\u001b[0m\u001b[0;34m\u001b[0m\u001b[0;34m\u001b[0m\u001b[0m\n\u001b[1;32m      3\u001b[0m \u001b[0mprint\u001b[0m\u001b[0;34m(\u001b[0m\u001b[0mclass_data\u001b[0m\u001b[0;34m)\u001b[0m\u001b[0;34m\u001b[0m\u001b[0;34m\u001b[0m\u001b[0m\n",
      "\u001b[0;31mAttributeError\u001b[0m: 'str' object has no attribute 'strftime'"
     ]
    }
   ],
   "source": [
    "class_data['StartDate'] = class_data['StartDate'].apply(lambda x: x.strftime('%Y-%m-%d'))\n",
    "class_data['EndDate'] = class_data['EndDate'].apply(lambda x: x.strftime('%Y-%m-%d')) \n",
    "print(class_data)"
   ]
  },
  {
   "cell_type": "code",
   "execution_count": null,
   "metadata": {},
   "outputs": [],
   "source": [
    "for index, row in class_data.iterrows():\n",
    "    record = {\"ID_Class__c\": row[\"ID_Class\"],\n",
    "              \"ID_Course__c\": classdict[row[\"ID_Course\"]]['id'],\n",
    "              \"Section__c\": row[\"Section\"],\n",
    "              \"StartDate__c\": row[\"StartDate\"],\n",
    "              \"EndDate__c\": row[\"EndDate\"]}\n",
    "    try:\n",
    "        sf.class__c.create(record)\n",
    "    except Exception as e:\n",
    "        print(e)"
   ]
  },
  {
   "cell_type": "code",
   "execution_count": 22,
   "metadata": {},
   "outputs": [
    {
     "name": "stdout",
     "output_type": "stream",
     "text": [
      "Malformed request https://na111.salesforce.com/services/data/v42.0/sobjects/Class__c/. Response content: [{'message': 'ID_Course: id value of incorrect type: 1', 'errorCode': 'MALFORMED_ID', 'fields': ['ID_Course__c']}]\n",
      "Malformed request https://na111.salesforce.com/services/data/v42.0/sobjects/Class__c/. Response content: [{'message': 'ID_Course: id value of incorrect type: 1', 'errorCode': 'MALFORMED_ID', 'fields': ['ID_Course__c']}]\n",
      "Malformed request https://na111.salesforce.com/services/data/v42.0/sobjects/Class__c/. Response content: [{'message': 'ID_Course: id value of incorrect type: 2', 'errorCode': 'MALFORMED_ID', 'fields': ['ID_Course__c']}]\n",
      "Malformed request https://na111.salesforce.com/services/data/v42.0/sobjects/Class__c/. Response content: [{'message': 'ID_Course: id value of incorrect type: 3', 'errorCode': 'MALFORMED_ID', 'fields': ['ID_Course__c']}]\n"
     ]
    }
   ],
   "source": [
    "for index, row in class_data.iterrows():\n",
    "    record = {\n",
    "        'ID_Class__c': row['ID_Class'],\n",
    "        'ID_Course__c': row['ID_Course'],\n",
    "        'Section__c':row['Section'],\n",
    "        'StartDate__c':row['StartDate'],\n",
    "        'EndDate__c':row['EndDate']\n",
    "    }\n",
    "    try:\n",
    "        sf.Class__c.create(record)\n",
    "    except Exception as e:\n",
    "        print(e)"
   ]
  },
  {
   "cell_type": "markdown",
   "metadata": {},
   "source": [
    "## Now the class participant data "
   ]
  },
  {
   "cell_type": "code",
   "execution_count": 58,
   "metadata": {},
   "outputs": [
    {
     "data": {
      "text/html": [
       "<div>\n",
       "<style scoped>\n",
       "    .dataframe tbody tr th:only-of-type {\n",
       "        vertical-align: middle;\n",
       "    }\n",
       "\n",
       "    .dataframe tbody tr th {\n",
       "        vertical-align: top;\n",
       "    }\n",
       "\n",
       "    .dataframe thead th {\n",
       "        text-align: right;\n",
       "    }\n",
       "</style>\n",
       "<table border=\"1\" class=\"dataframe\">\n",
       "  <thead>\n",
       "    <tr style=\"text-align: right;\">\n",
       "      <th></th>\n",
       "      <th>ID_ClassParticipant</th>\n",
       "      <th>ID_Student</th>\n",
       "      <th>ID_Class</th>\n",
       "      <th>StartDate</th>\n",
       "      <th>EndDate</th>\n",
       "    </tr>\n",
       "  </thead>\n",
       "  <tbody>\n",
       "    <tr>\n",
       "      <td>0</td>\n",
       "      <td>1</td>\n",
       "      <td>33</td>\n",
       "      <td>1</td>\n",
       "      <td>2020-03-16</td>\n",
       "      <td>None</td>\n",
       "    </tr>\n",
       "    <tr>\n",
       "      <td>1</td>\n",
       "      <td>2</td>\n",
       "      <td>34</td>\n",
       "      <td>1</td>\n",
       "      <td>2020-03-16</td>\n",
       "      <td>None</td>\n",
       "    </tr>\n",
       "    <tr>\n",
       "      <td>2</td>\n",
       "      <td>3</td>\n",
       "      <td>35</td>\n",
       "      <td>1</td>\n",
       "      <td>2020-03-16</td>\n",
       "      <td>None</td>\n",
       "    </tr>\n",
       "    <tr>\n",
       "      <td>3</td>\n",
       "      <td>4</td>\n",
       "      <td>62</td>\n",
       "      <td>1</td>\n",
       "      <td>2020-03-16</td>\n",
       "      <td>None</td>\n",
       "    </tr>\n",
       "    <tr>\n",
       "      <td>4</td>\n",
       "      <td>5</td>\n",
       "      <td>36</td>\n",
       "      <td>1</td>\n",
       "      <td>2020-03-16</td>\n",
       "      <td>None</td>\n",
       "    </tr>\n",
       "    <tr>\n",
       "      <td>5</td>\n",
       "      <td>6</td>\n",
       "      <td>37</td>\n",
       "      <td>1</td>\n",
       "      <td>2020-03-16</td>\n",
       "      <td>None</td>\n",
       "    </tr>\n",
       "    <tr>\n",
       "      <td>6</td>\n",
       "      <td>7</td>\n",
       "      <td>38</td>\n",
       "      <td>1</td>\n",
       "      <td>2020-03-16</td>\n",
       "      <td>None</td>\n",
       "    </tr>\n",
       "    <tr>\n",
       "      <td>7</td>\n",
       "      <td>8</td>\n",
       "      <td>39</td>\n",
       "      <td>1</td>\n",
       "      <td>2020-03-16</td>\n",
       "      <td>None</td>\n",
       "    </tr>\n",
       "    <tr>\n",
       "      <td>8</td>\n",
       "      <td>9</td>\n",
       "      <td>40</td>\n",
       "      <td>1</td>\n",
       "      <td>2020-03-16</td>\n",
       "      <td>None</td>\n",
       "    </tr>\n",
       "    <tr>\n",
       "      <td>9</td>\n",
       "      <td>10</td>\n",
       "      <td>41</td>\n",
       "      <td>1</td>\n",
       "      <td>2020-03-16</td>\n",
       "      <td>None</td>\n",
       "    </tr>\n",
       "  </tbody>\n",
       "</table>\n",
       "</div>"
      ],
      "text/plain": [
       "   ID_ClassParticipant  ID_Student  ID_Class   StartDate EndDate\n",
       "0                    1          33         1  2020-03-16    None\n",
       "1                    2          34         1  2020-03-16    None\n",
       "2                    3          35         1  2020-03-16    None\n",
       "3                    4          62         1  2020-03-16    None\n",
       "4                    5          36         1  2020-03-16    None\n",
       "5                    6          37         1  2020-03-16    None\n",
       "6                    7          38         1  2020-03-16    None\n",
       "7                    8          39         1  2020-03-16    None\n",
       "8                    9          40         1  2020-03-16    None\n",
       "9                   10          41         1  2020-03-16    None"
      ]
     },
     "execution_count": 58,
     "metadata": {},
     "output_type": "execute_result"
    }
   ],
   "source": [
    "participant_data = pd.read_sql(\"SELECT * FROM classparticipant\", conn)\n",
    "participant_data.head(10)"
   ]
  },
  {
   "cell_type": "code",
   "execution_count": 17,
   "metadata": {},
   "outputs": [
    {
     "data": {
      "text/html": [
       "<div>\n",
       "<style scoped>\n",
       "    .dataframe tbody tr th:only-of-type {\n",
       "        vertical-align: middle;\n",
       "    }\n",
       "\n",
       "    .dataframe tbody tr th {\n",
       "        vertical-align: top;\n",
       "    }\n",
       "\n",
       "    .dataframe thead th {\n",
       "        text-align: right;\n",
       "    }\n",
       "</style>\n",
       "<table border=\"1\" class=\"dataframe\">\n",
       "  <thead>\n",
       "    <tr style=\"text-align: right;\">\n",
       "      <th></th>\n",
       "      <th>ID_ClassParticipant</th>\n",
       "      <th>ID_Student</th>\n",
       "      <th>ID_Class</th>\n",
       "      <th>StartDate</th>\n",
       "      <th>EndDate</th>\n",
       "    </tr>\n",
       "  </thead>\n",
       "  <tbody>\n",
       "    <tr>\n",
       "      <td>0</td>\n",
       "      <td>1</td>\n",
       "      <td>33</td>\n",
       "      <td>1</td>\n",
       "      <td>2020-03-16</td>\n",
       "      <td>None</td>\n",
       "    </tr>\n",
       "    <tr>\n",
       "      <td>1</td>\n",
       "      <td>2</td>\n",
       "      <td>34</td>\n",
       "      <td>1</td>\n",
       "      <td>2020-03-16</td>\n",
       "      <td>None</td>\n",
       "    </tr>\n",
       "    <tr>\n",
       "      <td>2</td>\n",
       "      <td>3</td>\n",
       "      <td>35</td>\n",
       "      <td>1</td>\n",
       "      <td>2020-03-16</td>\n",
       "      <td>None</td>\n",
       "    </tr>\n",
       "    <tr>\n",
       "      <td>3</td>\n",
       "      <td>4</td>\n",
       "      <td>62</td>\n",
       "      <td>1</td>\n",
       "      <td>2020-03-16</td>\n",
       "      <td>None</td>\n",
       "    </tr>\n",
       "    <tr>\n",
       "      <td>4</td>\n",
       "      <td>5</td>\n",
       "      <td>36</td>\n",
       "      <td>1</td>\n",
       "      <td>2020-03-16</td>\n",
       "      <td>None</td>\n",
       "    </tr>\n",
       "    <tr>\n",
       "      <td>5</td>\n",
       "      <td>6</td>\n",
       "      <td>37</td>\n",
       "      <td>1</td>\n",
       "      <td>2020-03-16</td>\n",
       "      <td>None</td>\n",
       "    </tr>\n",
       "    <tr>\n",
       "      <td>6</td>\n",
       "      <td>7</td>\n",
       "      <td>38</td>\n",
       "      <td>1</td>\n",
       "      <td>2020-03-16</td>\n",
       "      <td>None</td>\n",
       "    </tr>\n",
       "    <tr>\n",
       "      <td>7</td>\n",
       "      <td>8</td>\n",
       "      <td>39</td>\n",
       "      <td>1</td>\n",
       "      <td>2020-03-16</td>\n",
       "      <td>None</td>\n",
       "    </tr>\n",
       "    <tr>\n",
       "      <td>8</td>\n",
       "      <td>9</td>\n",
       "      <td>40</td>\n",
       "      <td>1</td>\n",
       "      <td>2020-03-16</td>\n",
       "      <td>None</td>\n",
       "    </tr>\n",
       "    <tr>\n",
       "      <td>9</td>\n",
       "      <td>10</td>\n",
       "      <td>41</td>\n",
       "      <td>1</td>\n",
       "      <td>2020-03-16</td>\n",
       "      <td>None</td>\n",
       "    </tr>\n",
       "  </tbody>\n",
       "</table>\n",
       "</div>"
      ],
      "text/plain": [
       "   ID_ClassParticipant  ID_Student  ID_Class   StartDate EndDate\n",
       "0                    1          33         1  2020-03-16    None\n",
       "1                    2          34         1  2020-03-16    None\n",
       "2                    3          35         1  2020-03-16    None\n",
       "3                    4          62         1  2020-03-16    None\n",
       "4                    5          36         1  2020-03-16    None\n",
       "5                    6          37         1  2020-03-16    None\n",
       "6                    7          38         1  2020-03-16    None\n",
       "7                    8          39         1  2020-03-16    None\n",
       "8                    9          40         1  2020-03-16    None\n",
       "9                   10          41         1  2020-03-16    None"
      ]
     },
     "execution_count": 17,
     "metadata": {},
     "output_type": "execute_result"
    }
   ],
   "source": [
    "#participant_data['StartDate'] = participant_data['StartDate'].apply(lambda x: x.strftime('%Y-%m-%d')) \n",
    "#participant_data['EndDate'] = participant_data['EndDate'].apply(lambda x: x.strftime('%Y-%m-%d')) \n",
    "participant_data=participant_data[['ID_ClassParticipant','ID_Student','ID_Class','StartDate','EndDate']]\n",
    "participant_data.head(10)"
   ]
  },
  {
   "cell_type": "code",
   "execution_count": 48,
   "metadata": {},
   "outputs": [],
   "source": [
    "participant_data.to_csv('participant.csv')"
   ]
  },
  {
   "cell_type": "code",
   "execution_count": 20,
   "metadata": {},
   "outputs": [],
   "source": [
    "for index, row in participant_data.iterrows():\n",
    "    record = {\n",
    "        'ID_ClassParticipant__c': row['ID_ClassParticipant'],\n",
    "        'ID_Student__c': row['ID_Student'],\n",
    "        'ID_Class__c':row['ID_Class'],\n",
    "        'StartDate__c':row['StartDate'],\n",
    "        'EndDate__c':row['EndDate']\n",
    "    }\n",
    "    try:\n",
    "        sf.Classparticiant__c.create(record)\n",
    "    except Exception as e:\n",
    "        print(e)"
   ]
  },
  {
   "cell_type": "markdown",
   "metadata": {},
   "source": [
    "## Now the staff assignment data"
   ]
  },
  {
   "cell_type": "code",
   "execution_count": 61,
   "metadata": {},
   "outputs": [
    {
     "data": {
      "text/html": [
       "<div>\n",
       "<style scoped>\n",
       "    .dataframe tbody tr th:only-of-type {\n",
       "        vertical-align: middle;\n",
       "    }\n",
       "\n",
       "    .dataframe tbody tr th {\n",
       "        vertical-align: top;\n",
       "    }\n",
       "\n",
       "    .dataframe thead th {\n",
       "        text-align: right;\n",
       "    }\n",
       "</style>\n",
       "<table border=\"1\" class=\"dataframe\">\n",
       "  <thead>\n",
       "    <tr style=\"text-align: right;\">\n",
       "      <th></th>\n",
       "      <th>ID_StaffAssignment</th>\n",
       "      <th>ID_Staff</th>\n",
       "      <th>ID_Class</th>\n",
       "      <th>Role</th>\n",
       "      <th>StartDate</th>\n",
       "      <th>EndDate</th>\n",
       "    </tr>\n",
       "  </thead>\n",
       "  <tbody>\n",
       "    <tr>\n",
       "      <td>0</td>\n",
       "      <td>1</td>\n",
       "      <td>1</td>\n",
       "      <td>1</td>\n",
       "      <td>Teacher Assistant</td>\n",
       "      <td>2020-03-16</td>\n",
       "      <td>None</td>\n",
       "    </tr>\n",
       "    <tr>\n",
       "      <td>1</td>\n",
       "      <td>2</td>\n",
       "      <td>4</td>\n",
       "      <td>1</td>\n",
       "      <td>Teacher Assistant</td>\n",
       "      <td>2020-03-16</td>\n",
       "      <td>None</td>\n",
       "    </tr>\n",
       "    <tr>\n",
       "      <td>2</td>\n",
       "      <td>3</td>\n",
       "      <td>3</td>\n",
       "      <td>1</td>\n",
       "      <td>Instructor</td>\n",
       "      <td>2020-03-16</td>\n",
       "      <td>None</td>\n",
       "    </tr>\n",
       "  </tbody>\n",
       "</table>\n",
       "</div>"
      ],
      "text/plain": [
       "   ID_StaffAssignment  ID_Staff  ID_Class               Role   StartDate  \\\n",
       "0                   1         1         1  Teacher Assistant  2020-03-16   \n",
       "1                   2         4         1  Teacher Assistant  2020-03-16   \n",
       "2                   3         3         1         Instructor  2020-03-16   \n",
       "\n",
       "  EndDate  \n",
       "0    None  \n",
       "1    None  \n",
       "2    None  "
      ]
     },
     "execution_count": 61,
     "metadata": {},
     "output_type": "execute_result"
    }
   ],
   "source": [
    "assignment_data = pd.read_sql(\"SELECT * FROM staffassignment\", conn)\n",
    "assignment_data.head(10)"
   ]
  },
  {
   "cell_type": "code",
   "execution_count": 62,
   "metadata": {},
   "outputs": [],
   "source": [
    "assignment_data.to_csv('assignment.csv')"
   ]
  },
  {
   "cell_type": "code",
   "execution_count": 60,
   "metadata": {},
   "outputs": [
    {
     "data": {
      "text/html": [
       "<div>\n",
       "<style scoped>\n",
       "    .dataframe tbody tr th:only-of-type {\n",
       "        vertical-align: middle;\n",
       "    }\n",
       "\n",
       "    .dataframe tbody tr th {\n",
       "        vertical-align: top;\n",
       "    }\n",
       "\n",
       "    .dataframe thead th {\n",
       "        text-align: right;\n",
       "    }\n",
       "</style>\n",
       "<table border=\"1\" class=\"dataframe\">\n",
       "  <thead>\n",
       "    <tr style=\"text-align: right;\">\n",
       "      <th></th>\n",
       "      <th>ID_StaffAssignment</th>\n",
       "      <th>ID_Staff</th>\n",
       "      <th>ID_Class</th>\n",
       "      <th>Role</th>\n",
       "      <th>StartDate</th>\n",
       "      <th>EndDate</th>\n",
       "    </tr>\n",
       "  </thead>\n",
       "  <tbody>\n",
       "    <tr>\n",
       "      <td>0</td>\n",
       "      <td>1</td>\n",
       "      <td>1</td>\n",
       "      <td>1</td>\n",
       "      <td>Teacher Assistant</td>\n",
       "      <td>2020-03-16</td>\n",
       "      <td>None</td>\n",
       "    </tr>\n",
       "    <tr>\n",
       "      <td>1</td>\n",
       "      <td>2</td>\n",
       "      <td>4</td>\n",
       "      <td>1</td>\n",
       "      <td>Teacher Assistant</td>\n",
       "      <td>2020-03-16</td>\n",
       "      <td>None</td>\n",
       "    </tr>\n",
       "    <tr>\n",
       "      <td>2</td>\n",
       "      <td>3</td>\n",
       "      <td>3</td>\n",
       "      <td>1</td>\n",
       "      <td>Instructor</td>\n",
       "      <td>2020-03-16</td>\n",
       "      <td>None</td>\n",
       "    </tr>\n",
       "  </tbody>\n",
       "</table>\n",
       "</div>"
      ],
      "text/plain": [
       "   ID_StaffAssignment  ID_Staff  ID_Class               Role   StartDate  \\\n",
       "0                   1         1         1  Teacher Assistant  2020-03-16   \n",
       "1                   2         4         1  Teacher Assistant  2020-03-16   \n",
       "2                   3         3         1         Instructor  2020-03-16   \n",
       "\n",
       "  EndDate  \n",
       "0    None  \n",
       "1    None  \n",
       "2    None  "
      ]
     },
     "execution_count": 60,
     "metadata": {},
     "output_type": "execute_result"
    }
   ],
   "source": [
    "assignment_data['StartDate'] = assignment_data['StartDate'].apply(lambda x: x.strftime('%Y-%m-%d')) \n",
    "assignment_data=assignment_data[['ID_StaffAssignment','ID_Staff','ID_Class', 'Role','StartDate','EndDate']]\n",
    "assignment_data.head(10)"
   ]
  },
  {
   "cell_type": "code",
   "execution_count": 26,
   "metadata": {},
   "outputs": [],
   "source": [
    "for index, row in assignment_data.iterrows():\n",
    "    record = {\n",
    "        'ID_StaffAssignment__c': row['ID_StaffAssignment'],\n",
    "        'ID_Staff__c': row['ID_Staff'],\n",
    "        'ID_Class__c':row['ID_Class'],\n",
    "        'Role__c':row['Role'],\n",
    "        'StartDate__c':row['StartDate'],\n",
    "        'EndDate__c':row['EndDate']\n",
    "    }\n",
    "    try:\n",
    "        sf.Staffassignment__c.create(record)\n",
    "    except Exception as e:\n",
    "        print(e)"
   ]
  },
  {
   "cell_type": "markdown",
   "metadata": {},
   "source": [
    "## Now the student data"
   ]
  },
  {
   "cell_type": "code",
   "execution_count": 53,
   "metadata": {},
   "outputs": [
    {
     "data": {
      "text/html": [
       "<div>\n",
       "<style scoped>\n",
       "    .dataframe tbody tr th:only-of-type {\n",
       "        vertical-align: middle;\n",
       "    }\n",
       "\n",
       "    .dataframe tbody tr th {\n",
       "        vertical-align: top;\n",
       "    }\n",
       "\n",
       "    .dataframe thead th {\n",
       "        text-align: right;\n",
       "    }\n",
       "</style>\n",
       "<table border=\"1\" class=\"dataframe\">\n",
       "  <thead>\n",
       "    <tr style=\"text-align: right;\">\n",
       "      <th></th>\n",
       "      <th>ID_Student</th>\n",
       "      <th>StudentID</th>\n",
       "      <th>LastName</th>\n",
       "      <th>FirstName</th>\n",
       "      <th>MiddleName</th>\n",
       "      <th>BirthDate</th>\n",
       "      <th>Gender</th>\n",
       "    </tr>\n",
       "  </thead>\n",
       "  <tbody>\n",
       "    <tr>\n",
       "      <td>0</td>\n",
       "      <td>33</td>\n",
       "      <td>25004961</td>\n",
       "      <td>Moore</td>\n",
       "      <td>Heather</td>\n",
       "      <td>Alice</td>\n",
       "      <td>None</td>\n",
       "      <td>F</td>\n",
       "    </tr>\n",
       "    <tr>\n",
       "      <td>1</td>\n",
       "      <td>34</td>\n",
       "      <td>25003514</td>\n",
       "      <td>Multak</td>\n",
       "      <td>Ilana</td>\n",
       "      <td>Cecille</td>\n",
       "      <td>None</td>\n",
       "      <td>F</td>\n",
       "    </tr>\n",
       "    <tr>\n",
       "      <td>2</td>\n",
       "      <td>35</td>\n",
       "      <td>25005833</td>\n",
       "      <td>Murillo</td>\n",
       "      <td>Jessica</td>\n",
       "      <td>Dorothy</td>\n",
       "      <td>None</td>\n",
       "      <td>F</td>\n",
       "    </tr>\n",
       "    <tr>\n",
       "      <td>3</td>\n",
       "      <td>36</td>\n",
       "      <td>25002589</td>\n",
       "      <td>Romanowski</td>\n",
       "      <td>Kandra</td>\n",
       "      <td>Genevieve</td>\n",
       "      <td>None</td>\n",
       "      <td>F</td>\n",
       "    </tr>\n",
       "    <tr>\n",
       "      <td>4</td>\n",
       "      <td>37</td>\n",
       "      <td>25007185</td>\n",
       "      <td>Hoffer</td>\n",
       "      <td>Katherine</td>\n",
       "      <td>Lynnette</td>\n",
       "      <td>None</td>\n",
       "      <td>F</td>\n",
       "    </tr>\n",
       "    <tr>\n",
       "      <td>5</td>\n",
       "      <td>38</td>\n",
       "      <td>25006014</td>\n",
       "      <td>Poocharoen</td>\n",
       "      <td>Pariya</td>\n",
       "      <td>Mariette</td>\n",
       "      <td>None</td>\n",
       "      <td>F</td>\n",
       "    </tr>\n",
       "    <tr>\n",
       "      <td>6</td>\n",
       "      <td>39</td>\n",
       "      <td>25007528</td>\n",
       "      <td>Mantrala</td>\n",
       "      <td>Sriharitha</td>\n",
       "      <td>Patty</td>\n",
       "      <td>None</td>\n",
       "      <td>F</td>\n",
       "    </tr>\n",
       "    <tr>\n",
       "      <td>7</td>\n",
       "      <td>40</td>\n",
       "      <td>25003778</td>\n",
       "      <td>Kelly</td>\n",
       "      <td>Carly</td>\n",
       "      <td>Raelene</td>\n",
       "      <td>None</td>\n",
       "      <td>F</td>\n",
       "    </tr>\n",
       "    <tr>\n",
       "      <td>8</td>\n",
       "      <td>41</td>\n",
       "      <td>25003605</td>\n",
       "      <td>Sraha</td>\n",
       "      <td>Clementine</td>\n",
       "      <td>Kendall</td>\n",
       "      <td>None</td>\n",
       "      <td>F</td>\n",
       "    </tr>\n",
       "    <tr>\n",
       "      <td>9</td>\n",
       "      <td>42</td>\n",
       "      <td>25002056</td>\n",
       "      <td>Abdulrahim</td>\n",
       "      <td>Jawaher</td>\n",
       "      <td>Angela</td>\n",
       "      <td>None</td>\n",
       "      <td>F</td>\n",
       "    </tr>\n",
       "  </tbody>\n",
       "</table>\n",
       "</div>"
      ],
      "text/plain": [
       "   ID_Student StudentID    LastName   FirstName MiddleName BirthDate Gender\n",
       "0          33  25004961       Moore     Heather      Alice      None      F\n",
       "1          34  25003514      Multak       Ilana    Cecille      None      F\n",
       "2          35  25005833     Murillo     Jessica    Dorothy      None      F\n",
       "3          36  25002589  Romanowski      Kandra  Genevieve      None      F\n",
       "4          37  25007185      Hoffer   Katherine   Lynnette      None      F\n",
       "5          38  25006014  Poocharoen      Pariya   Mariette      None      F\n",
       "6          39  25007528    Mantrala  Sriharitha      Patty      None      F\n",
       "7          40  25003778       Kelly       Carly    Raelene      None      F\n",
       "8          41  25003605       Sraha  Clementine    Kendall      None      F\n",
       "9          42  25002056  Abdulrahim     Jawaher     Angela      None      F"
      ]
     },
     "execution_count": 53,
     "metadata": {},
     "output_type": "execute_result"
    }
   ],
   "source": [
    "student_data = pd.read_sql(\"SELECT * FROM student\", conn)\n",
    "student_data.head(10)"
   ]
  },
  {
   "cell_type": "code",
   "execution_count": 29,
   "metadata": {},
   "outputs": [
    {
     "data": {
      "text/html": [
       "<div>\n",
       "<style scoped>\n",
       "    .dataframe tbody tr th:only-of-type {\n",
       "        vertical-align: middle;\n",
       "    }\n",
       "\n",
       "    .dataframe tbody tr th {\n",
       "        vertical-align: top;\n",
       "    }\n",
       "\n",
       "    .dataframe thead th {\n",
       "        text-align: right;\n",
       "    }\n",
       "</style>\n",
       "<table border=\"1\" class=\"dataframe\">\n",
       "  <thead>\n",
       "    <tr style=\"text-align: right;\">\n",
       "      <th></th>\n",
       "      <th>ID_Student</th>\n",
       "      <th>StudentID</th>\n",
       "      <th>LastName</th>\n",
       "      <th>FirstName</th>\n",
       "      <th>MiddleName</th>\n",
       "      <th>BirthDate</th>\n",
       "      <th>Gender</th>\n",
       "    </tr>\n",
       "  </thead>\n",
       "  <tbody>\n",
       "    <tr>\n",
       "      <td>0</td>\n",
       "      <td>33</td>\n",
       "      <td>25004961</td>\n",
       "      <td>Moore</td>\n",
       "      <td>Heather</td>\n",
       "      <td>Alice</td>\n",
       "      <td>None</td>\n",
       "      <td>F</td>\n",
       "    </tr>\n",
       "    <tr>\n",
       "      <td>1</td>\n",
       "      <td>34</td>\n",
       "      <td>25003514</td>\n",
       "      <td>Multak</td>\n",
       "      <td>Ilana</td>\n",
       "      <td>Cecille</td>\n",
       "      <td>None</td>\n",
       "      <td>F</td>\n",
       "    </tr>\n",
       "    <tr>\n",
       "      <td>2</td>\n",
       "      <td>35</td>\n",
       "      <td>25005833</td>\n",
       "      <td>Murillo</td>\n",
       "      <td>Jessica</td>\n",
       "      <td>Dorothy</td>\n",
       "      <td>None</td>\n",
       "      <td>F</td>\n",
       "    </tr>\n",
       "    <tr>\n",
       "      <td>3</td>\n",
       "      <td>36</td>\n",
       "      <td>25002589</td>\n",
       "      <td>Romanowski</td>\n",
       "      <td>Kandra</td>\n",
       "      <td>Genevieve</td>\n",
       "      <td>None</td>\n",
       "      <td>F</td>\n",
       "    </tr>\n",
       "    <tr>\n",
       "      <td>4</td>\n",
       "      <td>37</td>\n",
       "      <td>25007185</td>\n",
       "      <td>Hoffer</td>\n",
       "      <td>Katherine</td>\n",
       "      <td>Lynnette</td>\n",
       "      <td>None</td>\n",
       "      <td>F</td>\n",
       "    </tr>\n",
       "    <tr>\n",
       "      <td>5</td>\n",
       "      <td>38</td>\n",
       "      <td>25006014</td>\n",
       "      <td>Poocharoen</td>\n",
       "      <td>Pariya</td>\n",
       "      <td>Mariette</td>\n",
       "      <td>None</td>\n",
       "      <td>F</td>\n",
       "    </tr>\n",
       "    <tr>\n",
       "      <td>6</td>\n",
       "      <td>39</td>\n",
       "      <td>25007528</td>\n",
       "      <td>Mantrala</td>\n",
       "      <td>Sriharitha</td>\n",
       "      <td>Patty</td>\n",
       "      <td>None</td>\n",
       "      <td>F</td>\n",
       "    </tr>\n",
       "    <tr>\n",
       "      <td>7</td>\n",
       "      <td>40</td>\n",
       "      <td>25003778</td>\n",
       "      <td>Kelly</td>\n",
       "      <td>Carly</td>\n",
       "      <td>Raelene</td>\n",
       "      <td>None</td>\n",
       "      <td>F</td>\n",
       "    </tr>\n",
       "    <tr>\n",
       "      <td>8</td>\n",
       "      <td>41</td>\n",
       "      <td>25003605</td>\n",
       "      <td>Sraha</td>\n",
       "      <td>Clementine</td>\n",
       "      <td>Kendall</td>\n",
       "      <td>None</td>\n",
       "      <td>F</td>\n",
       "    </tr>\n",
       "    <tr>\n",
       "      <td>9</td>\n",
       "      <td>42</td>\n",
       "      <td>25002056</td>\n",
       "      <td>Abdulrahim</td>\n",
       "      <td>Jawaher</td>\n",
       "      <td>Angela</td>\n",
       "      <td>None</td>\n",
       "      <td>F</td>\n",
       "    </tr>\n",
       "  </tbody>\n",
       "</table>\n",
       "</div>"
      ],
      "text/plain": [
       "   ID_Student StudentID    LastName   FirstName MiddleName BirthDate Gender\n",
       "0          33  25004961       Moore     Heather      Alice      None      F\n",
       "1          34  25003514      Multak       Ilana    Cecille      None      F\n",
       "2          35  25005833     Murillo     Jessica    Dorothy      None      F\n",
       "3          36  25002589  Romanowski      Kandra  Genevieve      None      F\n",
       "4          37  25007185      Hoffer   Katherine   Lynnette      None      F\n",
       "5          38  25006014  Poocharoen      Pariya   Mariette      None      F\n",
       "6          39  25007528    Mantrala  Sriharitha      Patty      None      F\n",
       "7          40  25003778       Kelly       Carly    Raelene      None      F\n",
       "8          41  25003605       Sraha  Clementine    Kendall      None      F\n",
       "9          42  25002056  Abdulrahim     Jawaher     Angela      None      F"
      ]
     },
     "execution_count": 29,
     "metadata": {},
     "output_type": "execute_result"
    }
   ],
   "source": [
    "student_data=student_data[['ID_Student','StudentID','LastName', 'FirstName','MiddleName','BirthDate','Gender']]\n",
    "student_data.head(10)"
   ]
  },
  {
   "cell_type": "code",
   "execution_count": 31,
   "metadata": {},
   "outputs": [],
   "source": [
    "for index, row in student_data.iterrows():\n",
    "    record = {\n",
    "        'ID_Student__c': row['ID_Student'],\n",
    "        'StudentID__c': row['StudentID'],\n",
    "        'LastName__c':row['LastName'],\n",
    "        'Name':row['FirstName'],\n",
    "        'MiddleName__c':row['MiddleName'],\n",
    "        'BirthDate__c':row['BirthDate'],\n",
    "        'Gender__c':row['Gender']\n",
    "    }\n",
    "    try:\n",
    "        sf.Student__c.create(record)\n",
    "    except Exception as e:\n",
    "        print(e)"
   ]
  },
  {
   "cell_type": "markdown",
   "metadata": {},
   "source": [
    "## Data IDs"
   ]
  },
  {
   "cell_type": "code",
   "execution_count": 74,
   "metadata": {},
   "outputs": [
    {
     "name": "stdout",
     "output_type": "stream",
     "text": [
      "OrderedDict([('totalSize', 8), ('done', True), ('records', [OrderedDict([('attributes', OrderedDict([('type', 'Course__c'), ('url', '/services/data/v42.0/sobjects/Course__c/a0E3h000001KpvQEAS')])), ('Id', 'a0E3h000001KpvQEAS')]), OrderedDict([('attributes', OrderedDict([('type', 'Course__c'), ('url', '/services/data/v42.0/sobjects/Course__c/a0E3h000001KpvREAS')])), ('Id', 'a0E3h000001KpvREAS')]), OrderedDict([('attributes', OrderedDict([('type', 'Course__c'), ('url', '/services/data/v42.0/sobjects/Course__c/a0E3h000001KpvXEAS')])), ('Id', 'a0E3h000001KpvXEAS')]), OrderedDict([('attributes', OrderedDict([('type', 'Course__c'), ('url', '/services/data/v42.0/sobjects/Course__c/a0E3h000001KpvYEAS')])), ('Id', 'a0E3h000001KpvYEAS')]), OrderedDict([('attributes', OrderedDict([('type', 'Course__c'), ('url', '/services/data/v42.0/sobjects/Course__c/a0E3h000001KpvZEAS')])), ('Id', 'a0E3h000001KpvZEAS')]), OrderedDict([('attributes', OrderedDict([('type', 'Course__c'), ('url', '/services/data/v42.0/sobjects/Course__c/a0E3h000001KpvaEAC')])), ('Id', 'a0E3h000001KpvaEAC')]), OrderedDict([('attributes', OrderedDict([('type', 'Course__c'), ('url', '/services/data/v42.0/sobjects/Course__c/a0E3h000001KpvbEAC')])), ('Id', 'a0E3h000001KpvbEAC')]), OrderedDict([('attributes', OrderedDict([('type', 'Course__c'), ('url', '/services/data/v42.0/sobjects/Course__c/a0E3h000001KpvcEAC')])), ('Id', 'a0E3h000001KpvcEAC')])])])\n",
      "totalSize\n",
      "done\n",
      "records\n"
     ]
    }
   ],
   "source": [
    "sf_participant = sf.query(\"SELECT id FROM Course__c\")\n",
    "print(sf_participant.pretty)\n",
    "\n",
    "for row in sf_participant:\n",
    "  print(row)\n",
    "\n"
   ]
  },
  {
   "cell_type": "code",
   "execution_count": 65,
   "metadata": {},
   "outputs": [
    {
     "ename": "SalesforceMalformedRequest",
     "evalue": "Malformed request https://na111.salesforce.com/services/data/v42.0/query/?q=SELECT+id%2C+name%2C+CourseName__c%2C+ID_Course__c+FROM+Course__c. Response content: [{'message': \"\\nSELECT id, name, CourseName__c, ID_Course__c FROM\\n                 ^\\nERROR at Row:1:Column:18\\nNo such column 'CourseName__c' on entity 'Course__c'. If you are attempting to use a custom field, be sure to append the '__c' after the custom field name. Please reference your WSDL or the describe call for the appropriate names.\", 'errorCode': 'INVALID_FIELD'}]",
     "output_type": "error",
     "traceback": [
      "\u001b[0;31m---------------------------------------------------------------------------\u001b[0m",
      "\u001b[0;31mSalesforceMalformedRequest\u001b[0m                Traceback (most recent call last)",
      "\u001b[0;32m<ipython-input-65-0d17c6968200>\u001b[0m in \u001b[0;36m<module>\u001b[0;34m\u001b[0m\n\u001b[0;32m----> 1\u001b[0;31m \u001b[0msf_participant\u001b[0m \u001b[0;34m=\u001b[0m \u001b[0msf\u001b[0m\u001b[0;34m.\u001b[0m\u001b[0mquery\u001b[0m\u001b[0;34m(\u001b[0m\u001b[0;34m\"SELECT id, name, CourseName__c, ID_Course__c FROM Course__c\"\u001b[0m\u001b[0;34m)\u001b[0m\u001b[0;34m\u001b[0m\u001b[0;34m\u001b[0m\u001b[0m\n\u001b[0m\u001b[1;32m      2\u001b[0m \u001b[0mclassdict\u001b[0m \u001b[0;34m=\u001b[0m \u001b[0;34m{\u001b[0m\u001b[0;34m}\u001b[0m\u001b[0;34m\u001b[0m\u001b[0;34m\u001b[0m\u001b[0m\n\u001b[1;32m      3\u001b[0m \u001b[0;32mfor\u001b[0m \u001b[0mx\u001b[0m \u001b[0;32min\u001b[0m \u001b[0msf_participants\u001b[0m\u001b[0;34m[\u001b[0m\u001b[0;34m'records'\u001b[0m\u001b[0;34m]\u001b[0m\u001b[0;34m:\u001b[0m\u001b[0;34m\u001b[0m\u001b[0;34m\u001b[0m\u001b[0m\n\u001b[1;32m      4\u001b[0m     \u001b[0mclassdict\u001b[0m\u001b[0;34m[\u001b[0m\u001b[0mx\u001b[0m\u001b[0;34m[\u001b[0m\u001b[0;34m'ID_Course__c'\u001b[0m\u001b[0;34m]\u001b[0m\u001b[0;34m]\u001b[0m \u001b[0;34m=\u001b[0m \u001b[0;34m{\u001b[0m\u001b[0;34m'name'\u001b[0m\u001b[0;34m:\u001b[0m \u001b[0mx\u001b[0m\u001b[0;34m[\u001b[0m\u001b[0;34m'CourseName__c'\u001b[0m\u001b[0;34m]\u001b[0m\u001b[0;34m,\u001b[0m \u001b[0;34m'id'\u001b[0m\u001b[0;34m:\u001b[0m\u001b[0mx\u001b[0m\u001b[0;34m[\u001b[0m\u001b[0;34m'Id'\u001b[0m\u001b[0;34m]\u001b[0m\u001b[0;34m}\u001b[0m\u001b[0;34m\u001b[0m\u001b[0;34m\u001b[0m\u001b[0m\n",
      "\u001b[0;32m~/opt/anaconda3/lib/python3.7/site-packages/simple_salesforce/api.py\u001b[0m in \u001b[0;36mquery\u001b[0;34m(self, query, include_deleted, **kwargs)\u001b[0m\n\u001b[1;32m    355\u001b[0m         \u001b[0;31m# `requests` will correctly encode the query string passed as `params`\u001b[0m\u001b[0;34m\u001b[0m\u001b[0;34m\u001b[0m\u001b[0;34m\u001b[0m\u001b[0m\n\u001b[1;32m    356\u001b[0m         result = self._call_salesforce('GET', url, name='query',\n\u001b[0;32m--> 357\u001b[0;31m                                        params=params, **kwargs)\n\u001b[0m\u001b[1;32m    358\u001b[0m \u001b[0;34m\u001b[0m\u001b[0m\n\u001b[1;32m    359\u001b[0m         \u001b[0;32mreturn\u001b[0m \u001b[0mresult\u001b[0m\u001b[0;34m.\u001b[0m\u001b[0mjson\u001b[0m\u001b[0;34m(\u001b[0m\u001b[0mobject_pairs_hook\u001b[0m\u001b[0;34m=\u001b[0m\u001b[0mOrderedDict\u001b[0m\u001b[0;34m)\u001b[0m\u001b[0;34m\u001b[0m\u001b[0;34m\u001b[0m\u001b[0m\n",
      "\u001b[0;32m~/opt/anaconda3/lib/python3.7/site-packages/simple_salesforce/api.py\u001b[0m in \u001b[0;36m_call_salesforce\u001b[0;34m(self, method, url, name, **kwargs)\u001b[0m\n\u001b[1;32m    488\u001b[0m \u001b[0;34m\u001b[0m\u001b[0m\n\u001b[1;32m    489\u001b[0m         \u001b[0;32mif\u001b[0m \u001b[0mresult\u001b[0m\u001b[0;34m.\u001b[0m\u001b[0mstatus_code\u001b[0m \u001b[0;34m>=\u001b[0m \u001b[0;36m300\u001b[0m\u001b[0;34m:\u001b[0m\u001b[0;34m\u001b[0m\u001b[0;34m\u001b[0m\u001b[0m\n\u001b[0;32m--> 490\u001b[0;31m             \u001b[0mexception_handler\u001b[0m\u001b[0;34m(\u001b[0m\u001b[0mresult\u001b[0m\u001b[0;34m,\u001b[0m \u001b[0mname\u001b[0m\u001b[0;34m=\u001b[0m\u001b[0mname\u001b[0m\u001b[0;34m)\u001b[0m\u001b[0;34m\u001b[0m\u001b[0;34m\u001b[0m\u001b[0m\n\u001b[0m\u001b[1;32m    491\u001b[0m \u001b[0;34m\u001b[0m\u001b[0m\n\u001b[1;32m    492\u001b[0m         \u001b[0msforce_limit_info\u001b[0m \u001b[0;34m=\u001b[0m \u001b[0mresult\u001b[0m\u001b[0;34m.\u001b[0m\u001b[0mheaders\u001b[0m\u001b[0;34m.\u001b[0m\u001b[0mget\u001b[0m\u001b[0;34m(\u001b[0m\u001b[0;34m'Sforce-Limit-Info'\u001b[0m\u001b[0;34m)\u001b[0m\u001b[0;34m\u001b[0m\u001b[0;34m\u001b[0m\u001b[0m\n",
      "\u001b[0;32m~/opt/anaconda3/lib/python3.7/site-packages/simple_salesforce/util.py\u001b[0m in \u001b[0;36mexception_handler\u001b[0;34m(result, name)\u001b[0m\n\u001b[1;32m     66\u001b[0m     \u001b[0mexc_cls\u001b[0m \u001b[0;34m=\u001b[0m \u001b[0mexc_map\u001b[0m\u001b[0;34m.\u001b[0m\u001b[0mget\u001b[0m\u001b[0;34m(\u001b[0m\u001b[0mresult\u001b[0m\u001b[0;34m.\u001b[0m\u001b[0mstatus_code\u001b[0m\u001b[0;34m,\u001b[0m \u001b[0mSalesforceGeneralError\u001b[0m\u001b[0;34m)\u001b[0m\u001b[0;34m\u001b[0m\u001b[0;34m\u001b[0m\u001b[0m\n\u001b[1;32m     67\u001b[0m \u001b[0;34m\u001b[0m\u001b[0m\n\u001b[0;32m---> 68\u001b[0;31m     \u001b[0;32mraise\u001b[0m \u001b[0mexc_cls\u001b[0m\u001b[0;34m(\u001b[0m\u001b[0mresult\u001b[0m\u001b[0;34m.\u001b[0m\u001b[0murl\u001b[0m\u001b[0;34m,\u001b[0m \u001b[0mresult\u001b[0m\u001b[0;34m.\u001b[0m\u001b[0mstatus_code\u001b[0m\u001b[0;34m,\u001b[0m \u001b[0mname\u001b[0m\u001b[0;34m,\u001b[0m \u001b[0mresponse_content\u001b[0m\u001b[0;34m)\u001b[0m\u001b[0;34m\u001b[0m\u001b[0;34m\u001b[0m\u001b[0m\n\u001b[0m\u001b[1;32m     69\u001b[0m \u001b[0;34m\u001b[0m\u001b[0m\n\u001b[1;32m     70\u001b[0m \u001b[0;34m\u001b[0m\u001b[0m\n",
      "\u001b[0;31mSalesforceMalformedRequest\u001b[0m: Malformed request https://na111.salesforce.com/services/data/v42.0/query/?q=SELECT+id%2C+name%2C+CourseName__c%2C+ID_Course__c+FROM+Course__c. Response content: [{'message': \"\\nSELECT id, name, CourseName__c, ID_Course__c FROM\\n                 ^\\nERROR at Row:1:Column:18\\nNo such column 'CourseName__c' on entity 'Course__c'. If you are attempting to use a custom field, be sure to append the '__c' after the custom field name. Please reference your WSDL or the describe call for the appropriate names.\", 'errorCode': 'INVALID_FIELD'}]"
     ]
    }
   ],
   "source": [
    "sf_participant = sf.query(\"SELECT id, name, CourseName__c, ID_Course__c FROM Course__c\")\n",
    "\n",
    "classdict = {}\n",
    "for x in sf_participants['records']:\n",
    "    classdict[x['ID_Course__c']] = {'name': x['CourseName__c'], 'id':x['Id']}"
   ]
  },
  {
   "cell_type": "code",
   "execution_count": null,
   "metadata": {},
   "outputs": [],
   "source": [
    "class_data['StartDate'] = class_data['StartDate'].apply(lambda x: x.strftime('%Y-%m-%d'))\n",
    "class_data['EndDate'] = class_data['EndDate'].apply(lambda x: x.strftime('%Y-%m-%d')) \n",
    "print(class_data)"
   ]
  },
  {
   "cell_type": "code",
   "execution_count": null,
   "metadata": {},
   "outputs": [],
   "source": [
    "for index, row in class_data.iterrows():\n",
    "    record = {\"ID_Class__c\": row[\"ID_Class\"],\n",
    "              \"ID_Course__c\": classdict[row[\"ID_Course\"]]['id'],\n",
    "              \"Section__c\": row[\"Section\"],\n",
    "              \"StartDate__c\": row[\"StartDate\"],\n",
    "              \"EndDate__c\": row[\"EndDate\"]}\n",
    "    try:\n",
    "        sf.class__c.create(record)\n",
    "    except Exception as e:\n",
    "        print(e)"
   ]
  },
  {
   "cell_type": "markdown",
   "metadata": {},
   "source": [
    "## Create Course Lookup Table\n",
    "You will use this later to crosswalk the course code with the primary key from the `Course` table"
   ]
  },
  {
   "cell_type": "code",
   "execution_count": null,
   "metadata": {},
   "outputs": [],
   "source": [
    "course_lookup_list = []\n",
    "\n",
    "# The `Name` column in the primary key in Salesforce objects\n",
    "data = sf.query_all_iter(\"SELECT Course_Code__c, Name FROM Course__c\")\n",
    "for row in data:\n",
    "    rec = {\n",
    "        'Course__c': row['Name'],\n",
    "        'Course_Code__c': row['Course_Code__c']\n",
    "    }\n",
    "    course_lookup_list.append(rec)"
   ]
  },
  {
   "cell_type": "code",
   "execution_count": null,
   "metadata": {},
   "outputs": [],
   "source": [
    "urse_lookup_list = []\n",
    "\n",
    "# The `Name` column in the primary key in Salesforce objects\n",
    "data = sf.query_all_iter(\"SELECT Course_Code__c, Name FROM Course__c\")\n",
    "for row in data:\n",
    "    rec = {\n",
    "        'Course__c': row['Name'],\n",
    "        'Course_Code__c': row['Course_Code__c']\n",
    "    }\n",
    "    course_lookup_list.append(rec)"
   ]
  },
  {
   "cell_type": "code",
   "execution_count": null,
   "metadata": {},
   "outputs": [],
   "source": [
    "course_lookup_df = pd.DataFrame(course_lookup_list)\n",
    "course_lookup_df"
   ]
  },
  {
   "cell_type": "code",
   "execution_count": null,
   "metadata": {},
   "outputs": [],
   "source": [
    "query = '''\n",
    "    SELECT\n",
    "        c.*\n",
    "        ,co.CourseCode\n",
    "    FROM\n",
    "        class c\n",
    "        INNER JOIN course co\n",
    "        ON c.ID_Course = co.ID_Course\n",
    "'''\n",
    "class_data_df = pd.read_sql(query, conn)\n",
    "class_data_df.head()"
   ]
  },
  {
   "cell_type": "code",
   "execution_count": null,
   "metadata": {},
   "outputs": [],
   "source": [
    "class_data_df.rename(columns={\n",
    "    'Section':'Section__c',\n",
    "    'StartDate':'Start_Date__c',\n",
    "    'EndDate':'End_Date__c',\n",
    "    'CourseCode':'Course_Code__c'\n",
    "}, inplace=True)\n",
    "\n",
    "class_data_df"
   ]
  },
  {
   "cell_type": "markdown",
   "metadata": {},
   "source": [
    "## Join the Class DataFrame with the Course lookup table\n",
    "This join is necessary to successfully lookup the foreign key for the Course table "
   ]
  },
  {
   "cell_type": "code",
   "execution_count": null,
   "metadata": {},
   "outputs": [],
   "source": [
    "class_data_df = pd.merge(class_data_df, course_lookup_df, how='left')\n",
    "#class_data_df.drop(columns = ['ID_Class','ID_Course','CourseName','CreditHours','BootCampCourse','Course_Code__c'], inplace=True)\n",
    "\n",
    "class_data_df.head()"
   ]
  },
  {
   "cell_type": "code",
   "execution_count": null,
   "metadata": {},
   "outputs": [],
   "source": [
    "class_data_df\n",
    "class_data_df['Start_Date__c'] = pd.to_datetime(class_data_df['Start_Date__c']).dt.date\n",
    "class_data_df['End_Date__c'] = pd.to_datetime(class_data_df['End_Date__c']).dt.date\n",
    "\n",
    "class_data_df.head()"
   ]
  },
  {
   "cell_type": "code",
   "execution_count": null,
   "metadata": {},
   "outputs": [],
   "source": [
    "class_data_records = class_data_df.to_dict(orient='records')\n",
    "class_data_records"
   ]
  },
  {
   "cell_type": "markdown",
   "metadata": {},
   "source": [
    "## Insert `Class` Records into Salesforce"
   ]
  },
  {
   "cell_type": "code",
   "execution_count": null,
   "metadata": {},
   "outputs": [],
   "source": [
    "for rec in class_data_records:\n",
    " \n",
    "    record = {\n",
    "        'Course__c': rec['Course__c'],\n",
    "        'Section__c': rec['Section__c'],\n",
    "        'Start_Date__c': str(rec['Start_Date__c']),\n",
    "        'End_Date__c': str(rec['End_Date__c']),\n",
    "    }\n",
    "    \n",
    "    try:\n",
    "        sf.Class__C.create(record)\n",
    "    except Exception as e:\n",
    "        print(e)"
   ]
  }
 ],
 "metadata": {
  "kernelspec": {
   "display_name": "Python 3",
   "language": "python",
   "name": "python3"
  },
  "language_info": {
   "codemirror_mode": {
    "name": "ipython",
    "version": 3
   },
   "file_extension": ".py",
   "mimetype": "text/x-python",
   "name": "python",
   "nbconvert_exporter": "python",
   "pygments_lexer": "ipython3",
   "version": "3.7.4"
  }
 },
 "nbformat": 4,
 "nbformat_minor": 2
}
